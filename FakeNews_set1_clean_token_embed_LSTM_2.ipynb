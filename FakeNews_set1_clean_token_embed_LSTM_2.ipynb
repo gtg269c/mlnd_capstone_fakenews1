{
 "cells": [
  {
   "cell_type": "markdown",
   "metadata": {},
   "source": [
    "## Fake news classification (kaggle)\n",
    "\n",
    "#### Source: https://www.kaggle.com/c/fake-news\n",
    "The Project is designed to analyze and classify news sources\n",
    "for authenticity and accuracy\n",
    "\n",
    "##### Steps involved in deep learning RNN analysis\n",
    "\n",
    "- Read the text and classification label\n",
    "- Tokenize the text and clean\n",
    "- Perform word embedding\n",
    "- Train RNN/LSTM model\n",
    "\n",
    "\n",
    "\n",
    "###### References:\n",
    "\n",
    "###### - https://medium.com/@sabber/classifying-yelp-review-comments-using-lstm-and-word-embeddings-part-1-eb2275e4066b\n",
    "- https://github.com/msahamed/yelp_comments_classification_nlp\n",
    "###### - https://towardsdatascience.com/understanding-lstm-and-its-quick-implementation-in-keras-for-sentiment-analysis-af410fd85b47\n",
    "- https://github.com/nsinha280/lstm-on-Yelp-review-data/blob/master/lstm-final.ipynb"
   ]
  },
  {
   "cell_type": "code",
   "execution_count": 1,
   "metadata": {},
   "outputs": [
    {
     "name": "stdout",
     "output_type": "stream",
     "text": [
      "Collecting langdetect\n",
      "  Downloading https://files.pythonhosted.org/packages/59/59/4bc44158a767a6d66de18c4136c8aa90491d56cc951c10b74dd1e13213c9/langdetect-1.0.7.zip (998kB)\n",
      "\u001b[K    100% |████████████████████████████████| 1.0MB 641kB/s ta 0:00:01\n",
      "\u001b[?25hRequirement already satisfied: six in /opt/conda/lib/python3.6/site-packages (from langdetect)\n",
      "Building wheels for collected packages: langdetect\n",
      "  Running setup.py bdist_wheel for langdetect ... \u001b[?25ldone\n",
      "\u001b[?25h  Stored in directory: /root/.cache/pip/wheels/ec/0c/a9/1647275e7ef5014e7b83ff30105180e332867d65e7617ddafe\n",
      "Successfully built langdetect\n",
      "Installing collected packages: langdetect\n",
      "Successfully installed langdetect-1.0.7\n",
      "\u001b[33mYou are using pip version 9.0.1, however version 10.0.1 is available.\n",
      "You should consider upgrading via the 'pip install --upgrade pip' command.\u001b[0m\n"
     ]
    }
   ],
   "source": [
    "#!python -m ipykernel list\n",
    "!pip install langdetect"
   ]
  },
  {
   "cell_type": "code",
   "execution_count": 2,
   "metadata": {},
   "outputs": [
    {
     "name": "stderr",
     "output_type": "stream",
     "text": [
      "Using TensorFlow backend.\n"
     ]
    },
    {
     "name": "stdout",
     "output_type": "stream",
     "text": [
      "Python 3.6.3\r\n"
     ]
    }
   ],
   "source": [
    "## Input libraries\n",
    "\n",
    "## system libraries\n",
    "\n",
    "import os\n",
    "import sys\n",
    "import glob\n",
    "import re\n",
    "\n",
    "## analysis libraries\n",
    "\n",
    "import pandas as pd\n",
    "import numpy as np\n",
    "\n",
    "\n",
    "## text and language processing\n",
    "from langdetect import detect\n",
    "import string\n",
    "#from string import punctuation\n",
    "import nltk\n",
    "from nltk.tokenize import word_tokenize,sent_tokenize\n",
    "#nltk.download('stopwords')\n",
    "#nltk.download('punkt')\n",
    "\n",
    "import pydot\n",
    "\n",
    "from nltk.corpus import stopwords\n",
    "\n",
    "from sklearn.manifold import TSNE\n",
    "## Keras\n",
    "# Keras\n",
    "from keras.preprocessing.text import Tokenizer\n",
    "from keras.preprocessing.sequence import pad_sequences\n",
    "from keras.models import Sequential\n",
    "from keras.layers import Dense, Flatten, LSTM, Conv1D, MaxPooling1D, Dropout, Activation, Bidirectional\n",
    "from keras.layers.embeddings import Embedding\n",
    "from keras.utils.vis_utils import plot_model\n",
    "\n",
    "\n",
    "\n",
    "\n",
    "## plotting\n",
    "import matplotlib.pyplot as plt\n",
    "import pylab as pl\n",
    "import seaborn as sns\n",
    "%matplotlib inline\n",
    "\n",
    "!python --version"
   ]
  },
  {
   "cell_type": "code",
   "execution_count": 3,
   "metadata": {},
   "outputs": [],
   "source": [
    "## Data source and files\n",
    "\n",
    "dir_data = r'data'\n",
    "\n",
    "file_train = r'data/train.csv'\n",
    "file_train_clean = r'train_clean.tsv'\n",
    "file_test = r'data/test.csv'"
   ]
  },
  {
   "cell_type": "code",
   "execution_count": 4,
   "metadata": {},
   "outputs": [
    {
     "name": "stdout",
     "output_type": "stream",
     "text": [
      "(20800, 5)\n"
     ]
    },
    {
     "data": {
      "text/html": [
       "<div>\n",
       "<style>\n",
       "    .dataframe thead tr:only-child th {\n",
       "        text-align: right;\n",
       "    }\n",
       "\n",
       "    .dataframe thead th {\n",
       "        text-align: left;\n",
       "    }\n",
       "\n",
       "    .dataframe tbody tr th {\n",
       "        vertical-align: top;\n",
       "    }\n",
       "</style>\n",
       "<table border=\"1\" class=\"dataframe\">\n",
       "  <thead>\n",
       "    <tr style=\"text-align: right;\">\n",
       "      <th></th>\n",
       "      <th>id</th>\n",
       "      <th>title</th>\n",
       "      <th>author</th>\n",
       "      <th>text</th>\n",
       "      <th>label</th>\n",
       "    </tr>\n",
       "  </thead>\n",
       "  <tbody>\n",
       "    <tr>\n",
       "      <th>0</th>\n",
       "      <td>0</td>\n",
       "      <td>House Dem Aide: We Didn’t Even See Comey’s Let...</td>\n",
       "      <td>Darrell Lucus</td>\n",
       "      <td>House Dem Aide: We Didn’t Even See Comey’s Let...</td>\n",
       "      <td>1</td>\n",
       "    </tr>\n",
       "    <tr>\n",
       "      <th>1</th>\n",
       "      <td>1</td>\n",
       "      <td>FLYNN: Hillary Clinton, Big Woman on Campus - ...</td>\n",
       "      <td>Daniel J. Flynn</td>\n",
       "      <td>Ever get the feeling your life circles the rou...</td>\n",
       "      <td>0</td>\n",
       "    </tr>\n",
       "    <tr>\n",
       "      <th>2</th>\n",
       "      <td>2</td>\n",
       "      <td>Why the Truth Might Get You Fired</td>\n",
       "      <td>Consortiumnews.com</td>\n",
       "      <td>Why the Truth Might Get You Fired October 29, ...</td>\n",
       "      <td>1</td>\n",
       "    </tr>\n",
       "    <tr>\n",
       "      <th>3</th>\n",
       "      <td>3</td>\n",
       "      <td>15 Civilians Killed In Single US Airstrike Hav...</td>\n",
       "      <td>Jessica Purkiss</td>\n",
       "      <td>Videos 15 Civilians Killed In Single US Airstr...</td>\n",
       "      <td>1</td>\n",
       "    </tr>\n",
       "    <tr>\n",
       "      <th>4</th>\n",
       "      <td>4</td>\n",
       "      <td>Iranian woman jailed for fictional unpublished...</td>\n",
       "      <td>Howard Portnoy</td>\n",
       "      <td>Print \\nAn Iranian woman has been sentenced to...</td>\n",
       "      <td>1</td>\n",
       "    </tr>\n",
       "  </tbody>\n",
       "</table>\n",
       "</div>"
      ],
      "text/plain": [
       "   id                                              title              author  \\\n",
       "0   0  House Dem Aide: We Didn’t Even See Comey’s Let...       Darrell Lucus   \n",
       "1   1  FLYNN: Hillary Clinton, Big Woman on Campus - ...     Daniel J. Flynn   \n",
       "2   2                  Why the Truth Might Get You Fired  Consortiumnews.com   \n",
       "3   3  15 Civilians Killed In Single US Airstrike Hav...     Jessica Purkiss   \n",
       "4   4  Iranian woman jailed for fictional unpublished...      Howard Portnoy   \n",
       "\n",
       "                                                text  label  \n",
       "0  House Dem Aide: We Didn’t Even See Comey’s Let...      1  \n",
       "1  Ever get the feeling your life circles the rou...      0  \n",
       "2  Why the Truth Might Get You Fired October 29, ...      1  \n",
       "3  Videos 15 Civilians Killed In Single US Airstr...      1  \n",
       "4  Print \\nAn Iranian woman has been sentenced to...      1  "
      ]
     },
     "execution_count": 4,
     "metadata": {},
     "output_type": "execute_result"
    }
   ],
   "source": [
    "#### Train Data summary\n",
    "\n",
    "train_all_df = pd.read_csv(file_train)\n",
    "\n",
    "print(train_all_df.shape)\n",
    "train_all_df.head()"
   ]
  },
  {
   "cell_type": "markdown",
   "metadata": {},
   "source": [
    "#### Remove empty articles"
   ]
  },
  {
   "cell_type": "code",
   "execution_count": 5,
   "metadata": {},
   "outputs": [
    {
     "name": "stdout",
     "output_type": "stream",
     "text": [
      "(20800, 5)\n"
     ]
    }
   ],
   "source": [
    "## remove empty cells\n",
    "train_all_df = train_all_df[train_all_df.text.apply(lambda x: x !=\"\")]\n",
    "\n",
    "print(train_all_df.shape)"
   ]
  },
  {
   "cell_type": "code",
   "execution_count": 6,
   "metadata": {},
   "outputs": [
    {
     "name": "stdout",
     "output_type": "stream",
     "text": [
      "(20761, 5)\n"
     ]
    }
   ],
   "source": [
    "## replace empty cells with NAN and remove rows with NA\n",
    "train_all_df['text'].replace('', np.nan, inplace=True)\n",
    "\n",
    "train_all_df.dropna(inplace=True,subset=['text','label'])\n",
    "\n",
    "train_all_df['text'].isnull().sum()\n",
    "\n",
    "print(train_all_df.shape)"
   ]
  },
  {
   "cell_type": "code",
   "execution_count": 7,
   "metadata": {},
   "outputs": [
    {
     "data": {
      "text/html": [
       "<div>\n",
       "<style>\n",
       "    .dataframe thead tr:only-child th {\n",
       "        text-align: right;\n",
       "    }\n",
       "\n",
       "    .dataframe thead th {\n",
       "        text-align: left;\n",
       "    }\n",
       "\n",
       "    .dataframe tbody tr th {\n",
       "        vertical-align: top;\n",
       "    }\n",
       "</style>\n",
       "<table border=\"1\" class=\"dataframe\">\n",
       "  <thead>\n",
       "    <tr style=\"text-align: right;\">\n",
       "      <th></th>\n",
       "      <th>label</th>\n",
       "      <th>variable</th>\n",
       "      <th>value</th>\n",
       "    </tr>\n",
       "  </thead>\n",
       "  <tbody>\n",
       "    <tr>\n",
       "      <th>0</th>\n",
       "      <td>0</td>\n",
       "      <td>author</td>\n",
       "      <td>10361</td>\n",
       "    </tr>\n",
       "    <tr>\n",
       "      <th>1</th>\n",
       "      <td>1</td>\n",
       "      <td>author</td>\n",
       "      <td>8482</td>\n",
       "    </tr>\n",
       "    <tr>\n",
       "      <th>2</th>\n",
       "      <td>0</td>\n",
       "      <td>text</td>\n",
       "      <td>10387</td>\n",
       "    </tr>\n",
       "    <tr>\n",
       "      <th>3</th>\n",
       "      <td>1</td>\n",
       "      <td>text</td>\n",
       "      <td>10374</td>\n",
       "    </tr>\n",
       "  </tbody>\n",
       "</table>\n",
       "</div>"
      ],
      "text/plain": [
       "   label variable  value\n",
       "0      0   author  10361\n",
       "1      1   author   8482\n",
       "2      0     text  10387\n",
       "3      1     text  10374"
      ]
     },
     "execution_count": 7,
     "metadata": {},
     "output_type": "execute_result"
    }
   ],
   "source": [
    "## summary of article labels by author and text\n",
    "#article_type_count = train_all_df[['author','label','text']].groupby(['label']).count().plot.bar(fontsize=20,figsize=(18, 9))\n",
    "\n",
    "article_type_count = train_all_df[['author','label','text']].groupby(['label']).count()\n",
    "article_type_count.reset_index(level=0, inplace=True)\n",
    "\n",
    "## melt dataframe\n",
    "melted = pd.melt(article_type_count,id_vars='label')\n",
    "\n",
    "melted"
   ]
  },
  {
   "cell_type": "code",
   "execution_count": 8,
   "metadata": {},
   "outputs": [
    {
     "name": "stderr",
     "output_type": "stream",
     "text": [
      "/opt/conda/lib/python3.6/site-packages/seaborn/axisgrid.py:703: UserWarning: Using the barplot function without specifying `order` is likely to produce an incorrect plot.\n",
      "  warnings.warn(warning)\n"
     ]
    },
    {
     "data": {
      "text/plain": [
       "<seaborn.axisgrid.FacetGrid at 0x7f5d90b39668>"
      ]
     },
     "execution_count": 8,
     "metadata": {},
     "output_type": "execute_result"
    },
    {
     "data": {
      "image/png": "[encoded data removed]",
      "text/plain": [
       "<matplotlib.figure.Figure at 0x7f5d90b391d0>"
      ]
     },
     "metadata": {},
     "output_type": "display_data"
    }
   ],
   "source": [
    "## plot barplot with seaborn\n",
    "\n",
    "\n",
    "g = sns.FacetGrid(melted, col=\"label\",hue=\"label\",palette=\"Set3\",size=5, aspect=0.75)\n",
    "g.map(sns.barplot,'variable','value')\\\n",
    ".set_axis_labels(\"Author Vs Article\", \"Number of article\")"
   ]
  },
  {
   "cell_type": "code",
   "execution_count": 9,
   "metadata": {},
   "outputs": [
    {
     "data": {
      "text/html": [
       "<div>\n",
       "<style>\n",
       "    .dataframe thead tr:only-child th {\n",
       "        text-align: right;\n",
       "    }\n",
       "\n",
       "    .dataframe thead th {\n",
       "        text-align: left;\n",
       "    }\n",
       "\n",
       "    .dataframe tbody tr th {\n",
       "        vertical-align: top;\n",
       "    }\n",
       "</style>\n",
       "<table border=\"1\" class=\"dataframe\">\n",
       "  <thead>\n",
       "    <tr style=\"text-align: right;\">\n",
       "      <th></th>\n",
       "      <th>id</th>\n",
       "      <th>title</th>\n",
       "      <th>author</th>\n",
       "      <th>text</th>\n",
       "      <th>label</th>\n",
       "    </tr>\n",
       "  </thead>\n",
       "  <tbody>\n",
       "    <tr>\n",
       "      <th>0</th>\n",
       "      <td>0</td>\n",
       "      <td>House Dem Aide: We Didn’t Even See Comey’s Let...</td>\n",
       "      <td>Darrell Lucus</td>\n",
       "      <td>House Dem Aide: We Didn’t Even See Comey’s Let...</td>\n",
       "      <td>1</td>\n",
       "    </tr>\n",
       "    <tr>\n",
       "      <th>1</th>\n",
       "      <td>1</td>\n",
       "      <td>FLYNN: Hillary Clinton, Big Woman on Campus - ...</td>\n",
       "      <td>Daniel J. Flynn</td>\n",
       "      <td>Ever get the feeling your life circles the rou...</td>\n",
       "      <td>0</td>\n",
       "    </tr>\n",
       "    <tr>\n",
       "      <th>2</th>\n",
       "      <td>2</td>\n",
       "      <td>Why the Truth Might Get You Fired</td>\n",
       "      <td>Consortiumnews.com</td>\n",
       "      <td>Why the Truth Might Get You Fired October 29, ...</td>\n",
       "      <td>1</td>\n",
       "    </tr>\n",
       "    <tr>\n",
       "      <th>3</th>\n",
       "      <td>3</td>\n",
       "      <td>15 Civilians Killed In Single US Airstrike Hav...</td>\n",
       "      <td>Jessica Purkiss</td>\n",
       "      <td>Videos 15 Civilians Killed In Single US Airstr...</td>\n",
       "      <td>1</td>\n",
       "    </tr>\n",
       "    <tr>\n",
       "      <th>4</th>\n",
       "      <td>4</td>\n",
       "      <td>Iranian woman jailed for fictional unpublished...</td>\n",
       "      <td>Howard Portnoy</td>\n",
       "      <td>Print \\nAn Iranian woman has been sentenced to...</td>\n",
       "      <td>1</td>\n",
       "    </tr>\n",
       "  </tbody>\n",
       "</table>\n",
       "</div>"
      ],
      "text/plain": [
       "   id                                              title              author  \\\n",
       "0   0  House Dem Aide: We Didn’t Even See Comey’s Let...       Darrell Lucus   \n",
       "1   1  FLYNN: Hillary Clinton, Big Woman on Campus - ...     Daniel J. Flynn   \n",
       "2   2                  Why the Truth Might Get You Fired  Consortiumnews.com   \n",
       "3   3  15 Civilians Killed In Single US Airstrike Hav...     Jessica Purkiss   \n",
       "4   4  Iranian woman jailed for fictional unpublished...      Howard Portnoy   \n",
       "\n",
       "                                                text  label  \n",
       "0  House Dem Aide: We Didn’t Even See Comey’s Let...      1  \n",
       "1  Ever get the feeling your life circles the rou...      0  \n",
       "2  Why the Truth Might Get You Fired October 29, ...      1  \n",
       "3  Videos 15 Civilians Killed In Single US Airstr...      1  \n",
       "4  Print \\nAn Iranian woman has been sentenced to...      1  "
      ]
     },
     "execution_count": 9,
     "metadata": {},
     "output_type": "execute_result"
    }
   ],
   "source": [
    "train_all_df.head()"
   ]
  },
  {
   "cell_type": "code",
   "execution_count": 10,
   "metadata": {},
   "outputs": [],
   "source": [
    "### Detect the language of the text article in a list\n",
    "\n",
    "def lang_detect_list(list_docs):\n",
    "    \"\"\"\n",
    "    Check if txt exit, Check lang\n",
    "    else, print n lang\n",
    "    \"\"\"\n",
    "    lang = []\n",
    "    for obj in list_docs:\n",
    "        obj = obj[:100]\n",
    "        if re.search('\\w',obj):\n",
    "        #if isinstance(obj, str) and obj is not None:\n",
    "            #print('obj is a string!')\n",
    "            #print(detect(obj)) # for x in train_all_df['text'][:10]]\n",
    "            try:\n",
    "                lang_str = detect(obj)\n",
    "            except:\n",
    "                lang_str = 'exception'\n",
    "            \n",
    "            lang.append(lang_str)\n",
    "\n",
    "        else:\n",
    "            lang.append('NoString')\n",
    "            \n",
    "    return(lang)"
   ]
  },
  {
   "cell_type": "code",
   "execution_count": 11,
   "metadata": {},
   "outputs": [],
   "source": [
    "#train_all_df.\n",
    "#lang_detect_list(train_all_df['text'][:200])\n",
    "\n",
    "lang_list = lang_detect_list(train_all_df['text'])"
   ]
  },
  {
   "cell_type": "code",
   "execution_count": 12,
   "metadata": {},
   "outputs": [],
   "source": [
    "## add the language as a column \n",
    "train_all_df['lang'] = lang_detect_list(train_all_df['text'])"
   ]
  },
  {
   "cell_type": "code",
   "execution_count": 13,
   "metadata": {},
   "outputs": [
    {
     "data": {
      "text/html": [
       "<div>\n",
       "<style>\n",
       "    .dataframe thead tr:only-child th {\n",
       "        text-align: right;\n",
       "    }\n",
       "\n",
       "    .dataframe thead th {\n",
       "        text-align: left;\n",
       "    }\n",
       "\n",
       "    .dataframe tbody tr th {\n",
       "        vertical-align: top;\n",
       "    }\n",
       "</style>\n",
       "<table border=\"1\" class=\"dataframe\">\n",
       "  <thead>\n",
       "    <tr style=\"text-align: right;\">\n",
       "      <th></th>\n",
       "      <th>id</th>\n",
       "      <th>title</th>\n",
       "      <th>author</th>\n",
       "      <th>text</th>\n",
       "      <th>label</th>\n",
       "      <th>lang</th>\n",
       "    </tr>\n",
       "  </thead>\n",
       "  <tbody>\n",
       "    <tr>\n",
       "      <th>0</th>\n",
       "      <td>0</td>\n",
       "      <td>House Dem Aide: We Didn’t Even See Comey’s Let...</td>\n",
       "      <td>Darrell Lucus</td>\n",
       "      <td>House Dem Aide: We Didn’t Even See Comey’s Let...</td>\n",
       "      <td>1</td>\n",
       "      <td>en</td>\n",
       "    </tr>\n",
       "    <tr>\n",
       "      <th>1</th>\n",
       "      <td>1</td>\n",
       "      <td>FLYNN: Hillary Clinton, Big Woman on Campus - ...</td>\n",
       "      <td>Daniel J. Flynn</td>\n",
       "      <td>Ever get the feeling your life circles the rou...</td>\n",
       "      <td>0</td>\n",
       "      <td>en</td>\n",
       "    </tr>\n",
       "    <tr>\n",
       "      <th>2</th>\n",
       "      <td>2</td>\n",
       "      <td>Why the Truth Might Get You Fired</td>\n",
       "      <td>Consortiumnews.com</td>\n",
       "      <td>Why the Truth Might Get You Fired October 29, ...</td>\n",
       "      <td>1</td>\n",
       "      <td>en</td>\n",
       "    </tr>\n",
       "    <tr>\n",
       "      <th>3</th>\n",
       "      <td>3</td>\n",
       "      <td>15 Civilians Killed In Single US Airstrike Hav...</td>\n",
       "      <td>Jessica Purkiss</td>\n",
       "      <td>Videos 15 Civilians Killed In Single US Airstr...</td>\n",
       "      <td>1</td>\n",
       "      <td>en</td>\n",
       "    </tr>\n",
       "    <tr>\n",
       "      <th>4</th>\n",
       "      <td>4</td>\n",
       "      <td>Iranian woman jailed for fictional unpublished...</td>\n",
       "      <td>Howard Portnoy</td>\n",
       "      <td>Print \\nAn Iranian woman has been sentenced to...</td>\n",
       "      <td>1</td>\n",
       "      <td>en</td>\n",
       "    </tr>\n",
       "  </tbody>\n",
       "</table>\n",
       "</div>"
      ],
      "text/plain": [
       "   id                                              title              author  \\\n",
       "0   0  House Dem Aide: We Didn’t Even See Comey’s Let...       Darrell Lucus   \n",
       "1   1  FLYNN: Hillary Clinton, Big Woman on Campus - ...     Daniel J. Flynn   \n",
       "2   2                  Why the Truth Might Get You Fired  Consortiumnews.com   \n",
       "3   3  15 Civilians Killed In Single US Airstrike Hav...     Jessica Purkiss   \n",
       "4   4  Iranian woman jailed for fictional unpublished...      Howard Portnoy   \n",
       "\n",
       "                                                text  label lang  \n",
       "0  House Dem Aide: We Didn’t Even See Comey’s Let...      1   en  \n",
       "1  Ever get the feeling your life circles the rou...      0   en  \n",
       "2  Why the Truth Might Get You Fired October 29, ...      1   en  \n",
       "3  Videos 15 Civilians Killed In Single US Airstr...      1   en  \n",
       "4  Print \\nAn Iranian woman has been sentenced to...      1   en  "
      ]
     },
     "execution_count": 13,
     "metadata": {},
     "output_type": "execute_result"
    }
   ],
   "source": [
    "train_all_df.head()"
   ]
  },
  {
   "cell_type": "code",
   "execution_count": 14,
   "metadata": {},
   "outputs": [],
   "source": [
    "## write the modified data as a file\n",
    "out_file = dir_data + '/' + file_train_clean\n",
    "train_all_df.to_csv(out_file,sep='\\t')\n"
   ]
  },
  {
   "cell_type": "code",
   "execution_count": 15,
   "metadata": {},
   "outputs": [
    {
     "data": {
      "text/html": [
       "<div>\n",
       "<style>\n",
       "    .dataframe thead tr:only-child th {\n",
       "        text-align: right;\n",
       "    }\n",
       "\n",
       "    .dataframe thead th {\n",
       "        text-align: left;\n",
       "    }\n",
       "\n",
       "    .dataframe tbody tr th {\n",
       "        vertical-align: top;\n",
       "    }\n",
       "</style>\n",
       "<table border=\"1\" class=\"dataframe\">\n",
       "  <thead>\n",
       "    <tr style=\"text-align: right;\">\n",
       "      <th></th>\n",
       "      <th>lang</th>\n",
       "      <th>label</th>\n",
       "      <th>author</th>\n",
       "    </tr>\n",
       "  </thead>\n",
       "  <tbody>\n",
       "    <tr>\n",
       "      <th>0</th>\n",
       "      <td>NoString</td>\n",
       "      <td>1</td>\n",
       "      <td>75</td>\n",
       "    </tr>\n",
       "    <tr>\n",
       "      <th>1</th>\n",
       "      <td>af</td>\n",
       "      <td>0</td>\n",
       "      <td>1</td>\n",
       "    </tr>\n",
       "    <tr>\n",
       "      <th>2</th>\n",
       "      <td>af</td>\n",
       "      <td>1</td>\n",
       "      <td>2</td>\n",
       "    </tr>\n",
       "    <tr>\n",
       "      <th>3</th>\n",
       "      <td>ar</td>\n",
       "      <td>1</td>\n",
       "      <td>4</td>\n",
       "    </tr>\n",
       "    <tr>\n",
       "      <th>4</th>\n",
       "      <td>ca</td>\n",
       "      <td>1</td>\n",
       "      <td>5</td>\n",
       "    </tr>\n",
       "  </tbody>\n",
       "</table>\n",
       "</div>"
      ],
      "text/plain": [
       "       lang  label  author\n",
       "0  NoString      1      75\n",
       "1        af      0       1\n",
       "2        af      1       2\n",
       "3        ar      1       4\n",
       "4        ca      1       5"
      ]
     },
     "execution_count": 15,
     "metadata": {},
     "output_type": "execute_result"
    }
   ],
   "source": [
    "## Languages for articles\n",
    "\n",
    "lang_label_summary = train_all_df[['lang','label','author']].groupby(['lang','label']).agg('count').reset_index()\n",
    "\n",
    "lang_label_summary.head()"
   ]
  },
  {
   "cell_type": "code",
   "execution_count": 16,
   "metadata": {},
   "outputs": [
    {
     "data": {
      "text/plain": [
       "<matplotlib.legend.Legend at 0x7f5d910a0da0>"
      ]
     },
     "execution_count": 16,
     "metadata": {},
     "output_type": "execute_result"
    },
    {
     "data": {
      "image/png": "[encoded data removed]",
      "text/plain": [
       "<matplotlib.figure.Figure at 0x7f5d86dc40f0>"
      ]
     },
     "metadata": {},
     "output_type": "display_data"
    }
   ],
   "source": [
    "## plot the number of articles by language and article type\n",
    "\n",
    "ax = lang_label_summary.pivot(index='lang',columns='label',values='author').plot.bar(fontsize=15,figsize=(18, 6))\n",
    "\n",
    "ax.set_xlabel(\"Languages (includes not defined)\",fontsize=15)\n",
    "ax.set_ylabel(\"Number of author\",fontsize=15)\n",
    "ax.set_title('Number of authors by languge and type of article',fontsize= 20) \n",
    "ax.legend(fontsize=15)"
   ]
  },
  {
   "cell_type": "markdown",
   "metadata": {},
   "source": [
    "#### Non english articles "
   ]
  },
  {
   "cell_type": "code",
   "execution_count": 17,
   "metadata": {},
   "outputs": [
    {
     "data": {
      "text/plain": [
       "(20098, 6)"
      ]
     },
     "execution_count": 17,
     "metadata": {},
     "output_type": "execute_result"
    }
   ],
   "source": [
    "train_all_df[train_all_df['lang'] == 'en'].shape"
   ]
  },
  {
   "cell_type": "code",
   "execution_count": 18,
   "metadata": {},
   "outputs": [],
   "source": [
    "train_all_df = train_all_df[train_all_df['lang'] == 'en']"
   ]
  },
  {
   "cell_type": "code",
   "execution_count": null,
   "metadata": {},
   "outputs": [],
   "source": []
  },
  {
   "cell_type": "markdown",
   "metadata": {},
   "source": [
    "#### Tokenize the text and clean"
   ]
  },
  {
   "cell_type": "code",
   "execution_count": 19,
   "metadata": {},
   "outputs": [],
   "source": [
    "\n",
    "df_all = train_all_df[['text','label']]\n",
    "\n",
    "### select rows\n",
    "#df = df_all.iloc[0:500]\n",
    "#labels =\n",
    "df = df_all\n",
    "\n",
    "### Create sequence\n",
    "vocabulary_size = 20000\n",
    "\n",
    "tokenizer = Tokenizer(num_words= vocabulary_size, filters='!\"#$%&()*+,-./:;<=>?@[\\\\]^_`{|}~\\t\\n',\n",
    "                      lower=True,split=' ')\n",
    "tokenizer.fit_on_texts(df['text'])\n",
    "sequences = tokenizer.texts_to_sequences(df['text'])\n",
    "data_all = pad_sequences(sequences, maxlen=50)"
   ]
  },
  {
   "cell_type": "code",
   "execution_count": 20,
   "metadata": {},
   "outputs": [
    {
     "data": {
      "text/plain": [
       "15000"
      ]
     },
     "execution_count": 20,
     "metadata": {},
     "output_type": "execute_result"
    }
   ],
   "source": [
    "data = data_all[:15000]\n",
    "label = df.iloc[:15000,1]\n",
    "len(data)\n",
    "#print(data[:10])"
   ]
  },
  {
   "cell_type": "markdown",
   "metadata": {},
   "source": [
    "#### Build the word embedding LSTM model 1"
   ]
  },
  {
   "cell_type": "code",
   "execution_count": 21,
   "metadata": {},
   "outputs": [
    {
     "name": "stdout",
     "output_type": "stream",
     "text": [
      "_________________________________________________________________\n",
      "Layer (type)                 Output Shape              Param #   \n",
      "=================================================================\n",
      "embedding_1 (Embedding)      (None, 50, 128)           2560000   \n",
      "_________________________________________________________________\n",
      "lstm_1 (LSTM)                (None, 150)               167400    \n",
      "_________________________________________________________________\n",
      "dense_1 (Dense)              (None, 1)                 151       \n",
      "=================================================================\n",
      "Total params: 2,727,551\n",
      "Trainable params: 2,727,551\n",
      "Non-trainable params: 0\n",
      "_________________________________________________________________\n"
     ]
    }
   ],
   "source": [
    "## Network architecture\n",
    "embeding_size = 128\n",
    "\n",
    "model1 = Sequential()\n",
    "model1.add(Embedding(20000, embeding_size, input_length=50))\n",
    "model1.add(LSTM(150, dropout=0.2, recurrent_dropout=0.2))\n",
    "model1.add(Dense(1, activation='sigmoid'))\n",
    "model1.compile(loss='binary_crossentropy', optimizer='adam', metrics=['accuracy'])\n",
    "\n",
    "## Show the model\n",
    "model1.summary()"
   ]
  },
  {
   "cell_type": "code",
   "execution_count": 22,
   "metadata": {},
   "outputs": [],
   "source": [
    "#plot_model(model1, to_file='model_plot.png', show_shapes=True, show_layer_names=True)"
   ]
  },
  {
   "cell_type": "markdown",
   "metadata": {},
   "source": [
    "#### Run the model"
   ]
  },
  {
   "cell_type": "code",
   "execution_count": 23,
   "metadata": {},
   "outputs": [
    {
     "name": "stdout",
     "output_type": "stream",
     "text": [
      "Train on 12000 samples, validate on 3000 samples\n",
      "Epoch 1/25\n",
      "12000/12000 [==============================] - 40s 3ms/step - loss: 0.3247 - acc: 0.8540 - val_loss: 0.2649 - val_acc: 0.8917\n",
      "Epoch 2/25\n",
      "12000/12000 [==============================] - 37s 3ms/step - loss: 0.1492 - acc: 0.9469 - val_loss: 0.2612 - val_acc: 0.9030\n",
      "Epoch 3/25\n",
      "12000/12000 [==============================] - 37s 3ms/step - loss: 0.0733 - acc: 0.9748 - val_loss: 0.3542 - val_acc: 0.8877\n",
      "Epoch 4/25\n",
      "12000/12000 [==============================] - 37s 3ms/step - loss: 0.0423 - acc: 0.9854 - val_loss: 0.3886 - val_acc: 0.8927\n",
      "Epoch 5/25\n",
      "12000/12000 [==============================] - 37s 3ms/step - loss: 0.0194 - acc: 0.9932 - val_loss: 0.5063 - val_acc: 0.8830\n",
      "Epoch 6/25\n",
      "12000/12000 [==============================] - 38s 3ms/step - loss: 0.0181 - acc: 0.9943 - val_loss: 0.4744 - val_acc: 0.8770\n",
      "Epoch 7/25\n",
      "12000/12000 [==============================] - 38s 3ms/step - loss: 0.0167 - acc: 0.9948 - val_loss: 0.4914 - val_acc: 0.8867\n",
      "Epoch 8/25\n",
      "12000/12000 [==============================] - 37s 3ms/step - loss: 0.0078 - acc: 0.9975 - val_loss: 0.6667 - val_acc: 0.8763\n",
      "Epoch 9/25\n",
      "12000/12000 [==============================] - 37s 3ms/step - loss: 0.0065 - acc: 0.9977 - val_loss: 0.5767 - val_acc: 0.8793\n",
      "Epoch 10/25\n",
      "12000/12000 [==============================] - 37s 3ms/step - loss: 0.0107 - acc: 0.9959 - val_loss: 0.6317 - val_acc: 0.8850\n",
      "Epoch 11/25\n",
      "12000/12000 [==============================] - 36s 3ms/step - loss: 0.0033 - acc: 0.9989 - val_loss: 0.6471 - val_acc: 0.8850\n",
      "Epoch 12/25\n",
      "12000/12000 [==============================] - 37s 3ms/step - loss: 0.0066 - acc: 0.9975 - val_loss: 0.7606 - val_acc: 0.8860\n",
      "Epoch 13/25\n",
      "12000/12000 [==============================] - 37s 3ms/step - loss: 0.0104 - acc: 0.9962 - val_loss: 0.6542 - val_acc: 0.8830\n",
      "Epoch 14/25\n",
      "12000/12000 [==============================] - 37s 3ms/step - loss: 0.0026 - acc: 0.9992 - val_loss: 0.7401 - val_acc: 0.8843\n",
      "Epoch 15/25\n",
      "12000/12000 [==============================] - 36s 3ms/step - loss: 0.0022 - acc: 0.9996 - val_loss: 0.7323 - val_acc: 0.8830\n",
      "Epoch 16/25\n",
      "12000/12000 [==============================] - 37s 3ms/step - loss: 3.9240e-04 - acc: 0.9999 - val_loss: 0.8358 - val_acc: 0.8820\n",
      "Epoch 17/25\n",
      "12000/12000 [==============================] - 37s 3ms/step - loss: 0.0017 - acc: 0.9996 - val_loss: 0.7854 - val_acc: 0.8860\n",
      "Epoch 18/25\n",
      "12000/12000 [==============================] - 37s 3ms/step - loss: 0.0023 - acc: 0.9993 - val_loss: 0.6463 - val_acc: 0.8783\n",
      "Epoch 19/25\n",
      "12000/12000 [==============================] - 38s 3ms/step - loss: 0.0070 - acc: 0.9982 - val_loss: 0.6936 - val_acc: 0.8903\n",
      "Epoch 20/25\n",
      "12000/12000 [==============================] - 38s 3ms/step - loss: 0.0044 - acc: 0.9987 - val_loss: 0.7124 - val_acc: 0.8830\n",
      "Epoch 21/25\n",
      "12000/12000 [==============================] - 37s 3ms/step - loss: 0.0017 - acc: 0.9994 - val_loss: 0.7392 - val_acc: 0.8850\n",
      "Epoch 22/25\n",
      "12000/12000 [==============================] - 37s 3ms/step - loss: 0.0076 - acc: 0.9971 - val_loss: 0.7217 - val_acc: 0.8827\n",
      "Epoch 23/25\n",
      "12000/12000 [==============================] - 37s 3ms/step - loss: 0.0024 - acc: 0.9992 - val_loss: 0.6925 - val_acc: 0.8870\n",
      "Epoch 24/25\n",
      "12000/12000 [==============================] - 37s 3ms/step - loss: 0.0017 - acc: 0.9998 - val_loss: 0.7402 - val_acc: 0.8850\n",
      "Epoch 25/25\n",
      "12000/12000 [==============================] - 38s 3ms/step - loss: 8.8733e-04 - acc: 0.9998 - val_loss: 0.7801 - val_acc: 0.8837\n"
     ]
    },
    {
     "data": {
      "text/plain": [
       "<keras.callbacks.History at 0x7f5d84d71da0>"
      ]
     },
     "execution_count": 23,
     "metadata": {},
     "output_type": "execute_result"
    }
   ],
   "source": [
    "## Fit the model\n",
    "model1.fit(data, np.array(label), validation_split=0.2, epochs=25)"
   ]
  },
  {
   "cell_type": "markdown",
   "metadata": {},
   "source": [
    "#### Evaluate the model"
   ]
  },
  {
   "cell_type": "code",
   "execution_count": 24,
   "metadata": {},
   "outputs": [],
   "source": [
    "## Evaluate the model\n",
    "X_test = data_all[15000:]\n",
    "Y_test =  df.iloc[15000:,1]"
   ]
  },
  {
   "cell_type": "code",
   "execution_count": 25,
   "metadata": {},
   "outputs": [
    {
     "name": "stdout",
     "output_type": "stream",
     "text": [
      "Score: 0.78\n",
      "Validation Accuracy: 0.89\n"
     ]
    }
   ],
   "source": [
    "\n",
    "score,acc  =  model1.evaluate(X_test, Y_test, verbose = 2)\n",
    "print(\"Score: %.2f\" % (score))\n",
    "print(\"Validation Accuracy: %.2f\" % (acc))"
   ]
  },
  {
   "cell_type": "markdown",
   "metadata": {},
   "source": [
    "prediction_sigmoid "
   ]
  },
  {
   "cell_type": "code",
   "execution_count": 26,
   "metadata": {},
   "outputs": [],
   "source": [
    "## Prediction of the labels\n",
    "\n",
    "prediction_sigmoid = model1.predict(X_test, verbose = 2)"
   ]
  },
  {
   "cell_type": "code",
   "execution_count": 27,
   "metadata": {},
   "outputs": [
    {
     "name": "stdout",
     "output_type": "stream",
     "text": [
      "(5098, 1)\n",
      "(5098,)\n"
     ]
    }
   ],
   "source": [
    "## Convert prediction (floats) to integer and compile predictions\n",
    "\n",
    "print(prediction_sigmoid.shape)\n",
    "\n",
    "predict_sigmoid_round = prediction_sigmoid.round()\n",
    "\n",
    "#print(predict_sigmoid_round)\n",
    "\n",
    "print(np.reshape(predict_sigmoid_round,len(predict_sigmoid_round)).shape)\n",
    "\n",
    "predicted_label = list(np.reshape(predict_sigmoid_round,len(predict_sigmoid_round)))"
   ]
  },
  {
   "cell_type": "code",
   "execution_count": 28,
   "metadata": {},
   "outputs": [],
   "source": [
    "## Compute the TP, TN, FP, FN values\n",
    "\n",
    "def get_matrics_binary(Y_original,Y_prediction):\n",
    "    \"\"\"\n",
    "    Input list of original and preidcted labels \n",
    "    for binary classifiers (0,1)\n",
    "    \"\"\"\n",
    "    Y_original = np.asarray(Y_original)\n",
    "    Y_prediction = np.asarray(Y_prediction)\n",
    "    \n",
    "    if len(Y_original) == len(Y_prediction):\n",
    "        ## TP\n",
    "        TP = np.sum(np.logical_and(Y_original == 1, Y_prediction == 1)) \n",
    "        \n",
    "        ## FP\n",
    "        TN = np.sum(np.logical_and(Y_original == 0, Y_prediction == 0))\n",
    "        \n",
    "        ## \n",
    "        FP = np.sum(np.logical_and(Y_original == 0, Y_prediction == 1)) \n",
    "        \n",
    "        ## FP\n",
    "        FN = np.sum(np.logical_and(Y_original == 1, Y_prediction == 0))\n",
    "        \n",
    "    return(TP,TN,FP,FN)\n",
    "\n",
    "\n"
   ]
  },
  {
   "cell_type": "markdown",
   "metadata": {},
   "source": [
    "#### Evaluation matrices\n",
    "\n",
    "- Precision \n",
    "- Recall\n",
    "- F beta-score\n"
   ]
  },
  {
   "cell_type": "code",
   "execution_count": 29,
   "metadata": {},
   "outputs": [],
   "source": [
    "TP,TN,FP,FN = get_matrics_binary(Y_test,predicted_label)"
   ]
  },
  {
   "cell_type": "code",
   "execution_count": 30,
   "metadata": {},
   "outputs": [],
   "source": [
    "## Calculate TP, TN, FP, FN, Precision, Recall and F1 score\n",
    "def get_prec_recall_f1(TP,TN,FP,FN):\n",
    "    \"\"\"\n",
    "    Input provide the values for TP,TN,FP,FN\n",
    "    Output: get the precision, recall and the F1 score\n",
    "    \"\"\"\n",
    "    ## Calculate precision and recall\n",
    "    recall = float(TP)/(TP + FN)\n",
    "    precision = float(TP)/(TP + FP)\n",
    "\n",
    "    print(\"Recall: {}, Precision: {}\".format(recall, precision))\n",
    "    \n",
    "    ## Calculate F-score using the formula with beta = 0.5\n",
    "    beta = 0.5\n",
    "    fscore = (1 + beta**2) * (precision * recall)/((beta**2)*precision + recall)\n",
    "    # Print the results \n",
    "    print(\"F beta-score: {}\".format(fscore))"
   ]
  },
  {
   "cell_type": "code",
   "execution_count": 31,
   "metadata": {},
   "outputs": [
    {
     "name": "stdout",
     "output_type": "stream",
     "text": [
      "Recall: 0.8942268873637464, Precision: 0.8754940711462451\n",
      "F beta-score: 0.8791775819639597\n"
     ]
    }
   ],
   "source": [
    "get_prec_recall_f1(TP,TN,FP,FN)"
   ]
  },
  {
   "cell_type": "markdown",
   "metadata": {},
   "source": [
    "#### Build the word embedding bidirectional LSTM model 2"
   ]
  },
  {
   "cell_type": "code",
   "execution_count": 39,
   "metadata": {},
   "outputs": [
    {
     "name": "stdout",
     "output_type": "stream",
     "text": [
      "_________________________________________________________________\n",
      "Layer (type)                 Output Shape              Param #   \n",
      "=================================================================\n",
      "embedding_3 (Embedding)      (None, 50, 128)           2560000   \n",
      "_________________________________________________________________\n",
      "bidirectional_2 (Bidirection (None, 300)               334800    \n",
      "_________________________________________________________________\n",
      "dense_3 (Dense)              (None, 1)                 301       \n",
      "=================================================================\n",
      "Total params: 2,895,101\n",
      "Trainable params: 2,895,101\n",
      "Non-trainable params: 0\n",
      "_________________________________________________________________\n"
     ]
    }
   ],
   "source": [
    "## Network architecture\n",
    "embeding_size = 128\n",
    "\n",
    "model2 = Sequential()\n",
    "model2.add(Embedding(20000, embeding_size, input_length=50))\n",
    "model2.add(Bidirectional(LSTM(150, dropout=0.2, recurrent_dropout=0.2)))\n",
    "model2.add(Dense(1, activation='sigmoid'))\n",
    "model2.compile(loss='binary_crossentropy', optimizer='adam', metrics=['accuracy'])\n",
    "\n",
    "## Show the model\n",
    "model2.summary()"
   ]
  },
  {
   "cell_type": "code",
   "execution_count": 40,
   "metadata": {},
   "outputs": [
    {
     "name": "stdout",
     "output_type": "stream",
     "text": [
      "Train on 12000 samples, validate on 3000 samples\n",
      "Epoch 1/25\n",
      "12000/12000 [==============================] - 81s 7ms/step - loss: 0.3284 - acc: 0.8562 - val_loss: 0.2664 - val_acc: 0.8903\n",
      "Epoch 2/25\n",
      "12000/12000 [==============================] - 79s 7ms/step - loss: 0.1312 - acc: 0.9522 - val_loss: 0.2538 - val_acc: 0.8973\n",
      "Epoch 3/25\n",
      "12000/12000 [==============================] - 78s 7ms/step - loss: 0.0719 - acc: 0.9747 - val_loss: 0.3372 - val_acc: 0.8887\n",
      "Epoch 4/25\n",
      "12000/12000 [==============================] - 79s 7ms/step - loss: 0.0404 - acc: 0.9880 - val_loss: 0.3836 - val_acc: 0.8903\n",
      "Epoch 5/25\n",
      "12000/12000 [==============================] - 79s 7ms/step - loss: 0.0153 - acc: 0.9952 - val_loss: 0.5196 - val_acc: 0.8780\n",
      "Epoch 6/25\n",
      "12000/12000 [==============================] - 79s 7ms/step - loss: 0.0108 - acc: 0.9969 - val_loss: 0.4743 - val_acc: 0.8903\n",
      "Epoch 7/25\n",
      "12000/12000 [==============================] - 79s 7ms/step - loss: 0.0074 - acc: 0.9977 - val_loss: 0.5515 - val_acc: 0.8957\n",
      "Epoch 8/25\n",
      "12000/12000 [==============================] - 78s 7ms/step - loss: 0.0065 - acc: 0.9980 - val_loss: 0.7492 - val_acc: 0.8850\n",
      "Epoch 9/25\n",
      "12000/12000 [==============================] - 79s 7ms/step - loss: 0.0066 - acc: 0.9986 - val_loss: 0.5333 - val_acc: 0.8867\n",
      "Epoch 10/25\n",
      "12000/12000 [==============================] - 78s 7ms/step - loss: 0.0119 - acc: 0.9963 - val_loss: 0.4903 - val_acc: 0.8847\n",
      "Epoch 11/25\n",
      "12000/12000 [==============================] - 78s 7ms/step - loss: 0.0062 - acc: 0.9983 - val_loss: 0.6698 - val_acc: 0.8920\n",
      "Epoch 12/25\n",
      "12000/12000 [==============================] - 78s 7ms/step - loss: 0.0023 - acc: 0.9994 - val_loss: 0.7649 - val_acc: 0.8907\n",
      "Epoch 13/25\n",
      "12000/12000 [==============================] - 79s 7ms/step - loss: 0.0089 - acc: 0.9965 - val_loss: 0.6420 - val_acc: 0.8923\n",
      "Epoch 14/25\n",
      "12000/12000 [==============================] - 79s 7ms/step - loss: 0.0050 - acc: 0.9983 - val_loss: 0.7261 - val_acc: 0.8857\n",
      "Epoch 15/25\n",
      "12000/12000 [==============================] - 78s 7ms/step - loss: 0.0025 - acc: 0.9993 - val_loss: 0.6847 - val_acc: 0.8823\n",
      "Epoch 16/25\n",
      "12000/12000 [==============================] - 78s 7ms/step - loss: 5.6718e-04 - acc: 0.9998 - val_loss: 0.8193 - val_acc: 0.8827\n",
      "Epoch 17/25\n",
      "12000/12000 [==============================] - 79s 7ms/step - loss: 4.8776e-05 - acc: 1.0000 - val_loss: 0.8745 - val_acc: 0.8850\n",
      "Epoch 18/25\n",
      "12000/12000 [==============================] - 79s 7ms/step - loss: 3.0255e-05 - acc: 1.0000 - val_loss: 0.9220 - val_acc: 0.8830\n",
      "Epoch 19/25\n",
      "12000/12000 [==============================] - 78s 7ms/step - loss: 1.6429e-05 - acc: 1.0000 - val_loss: 0.9514 - val_acc: 0.8843\n",
      "Epoch 20/25\n",
      "12000/12000 [==============================] - 79s 7ms/step - loss: 1.7290e-05 - acc: 1.0000 - val_loss: 0.9730 - val_acc: 0.8833\n",
      "Epoch 21/25\n",
      "12000/12000 [==============================] - 78s 7ms/step - loss: 1.0449e-05 - acc: 1.0000 - val_loss: 0.9870 - val_acc: 0.8840\n",
      "Epoch 22/25\n",
      "12000/12000 [==============================] - 78s 7ms/step - loss: 6.7803e-06 - acc: 1.0000 - val_loss: 1.0131 - val_acc: 0.8837\n",
      "Epoch 23/25\n",
      "12000/12000 [==============================] - 78s 7ms/step - loss: 1.3333e-05 - acc: 1.0000 - val_loss: 0.9596 - val_acc: 0.8830\n",
      "Epoch 24/25\n",
      "12000/12000 [==============================] - 79s 7ms/step - loss: 1.0919e-05 - acc: 1.0000 - val_loss: 0.9831 - val_acc: 0.8850\n",
      "Epoch 25/25\n",
      "12000/12000 [==============================] - 79s 7ms/step - loss: 5.7214e-05 - acc: 1.0000 - val_loss: 0.8667 - val_acc: 0.8890\n"
     ]
    },
    {
     "data": {
      "text/plain": [
       "<keras.callbacks.History at 0x7f5d5f6d40b8>"
      ]
     },
     "execution_count": 40,
     "metadata": {},
     "output_type": "execute_result"
    }
   ],
   "source": [
    "## Fit the model\n",
    "model2.fit(data, np.array(label), validation_split=0.2, epochs=25)"
   ]
  },
  {
   "cell_type": "code",
   "execution_count": 41,
   "metadata": {},
   "outputs": [
    {
     "name": "stdout",
     "output_type": "stream",
     "text": [
      "Score: 0.81\n",
      "Validation Accuracy: 0.89\n"
     ]
    }
   ],
   "source": [
    "## Evaluation of model 2\n",
    "\n",
    "\n",
    "score,acc  =  model2.evaluate(X_test, Y_test, verbose = 2)\n",
    "print(\"Score: %.2f\" % (score))\n",
    "print(\"Validation Accuracy: %.2f\" % (acc))"
   ]
  },
  {
   "cell_type": "code",
   "execution_count": 42,
   "metadata": {},
   "outputs": [
    {
     "name": "stdout",
     "output_type": "stream",
     "text": [
      "(5098, 1)\n",
      "(5098,)\n"
     ]
    }
   ],
   "source": [
    "## Prediction of the labels\n",
    "\n",
    "prediction_sigmoid = model2.predict(X_test, verbose = 2)\n",
    "\n",
    "## Convert prediction (floats) to integer and compile predictions\n",
    "\n",
    "print(prediction_sigmoid.shape)\n",
    "\n",
    "predict_sigmoid_round = prediction_sigmoid.round()\n",
    "\n",
    "#print(predict_sigmoid_round)\n",
    "\n",
    "print(np.reshape(predict_sigmoid_round,len(predict_sigmoid_round)).shape)\n",
    "\n",
    "predicted_label = list(np.reshape(predict_sigmoid_round,len(predict_sigmoid_round)))"
   ]
  },
  {
   "cell_type": "code",
   "execution_count": 43,
   "metadata": {},
   "outputs": [
    {
     "name": "stdout",
     "output_type": "stream",
     "text": [
      "Recall: 0.8772708922083166, Precision: 0.8971924029727498\n",
      "F beta-score: 0.8931360460337032\n"
     ]
    }
   ],
   "source": [
    "## Evaluation matrics\n",
    "\n",
    "TP,TN,FP,FN = get_matrics_binary(Y_test,predicted_label)\n",
    "\n",
    "get_prec_recall_f1(TP,TN,FP,FN)"
   ]
  }
 ],
 "metadata": {
  "kernelspec": {
   "display_name": "Python 3",
   "language": "python",
   "name": "python3"
  },
  "language_info": {
   "codemirror_mode": {
    "name": "ipython",
    "version": 3
   },
   "file_extension": ".py",
   "mimetype": "text/x-python",
   "name": "python",
   "nbconvert_exporter": "python",
   "pygments_lexer": "ipython3",
   "version": "3.6.3"
  }
 },
 "nbformat": 4,
 "nbformat_minor": 2
}
