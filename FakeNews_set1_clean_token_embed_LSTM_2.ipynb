{
 "cells": [
  {
   "cell_type": "markdown",
   "metadata": {},
   "source": [
    "## Fake news classification (kaggle)\n",
    "\n",
    "#### Source: https://www.kaggle.com/c/fake-news\n",
    "The Project is designed to analyze and classify news sources\n",
    "for authenticity and accuracy\n",
    "\n",
    "##### Steps involved in deep learning RNN analysis\n",
    "\n",
    "- Read the text and classification label\n",
    "- Tokenize the text and clean\n",
    "- Perform word embedding\n",
    "- Train RNN/LSTM model\n",
    "\n",
    "\n",
    "\n",
    "###### References:\n",
    "\n",
    "###### - https://medium.com/@sabber/classifying-yelp-review-comments-using-lstm-and-word-embeddings-part-1-eb2275e4066b\n",
    "- https://github.com/msahamed/yelp_comments_classification_nlp\n",
    "###### - https://towardsdatascience.com/understanding-lstm-and-its-quick-implementation-in-keras-for-sentiment-analysis-af410fd85b47\n",
    "- https://github.com/nsinha280/lstm-on-Yelp-review-data/blob/master/lstm-final.ipynb"
   ]
  },
  {
   "cell_type": "code",
   "execution_count": 1,
   "metadata": {},
   "outputs": [
    {
     "name": "stdout",
     "output_type": "stream",
     "text": [
      "Collecting langdetect\n",
      "  Downloading https://files.pythonhosted.org/packages/59/59/4bc44158a767a6d66de18c4136c8aa90491d56cc951c10b74dd1e13213c9/langdetect-1.0.7.zip (998kB)\n",
      "\u001b[K    100% |████████████████████████████████| 1.0MB 653kB/s ta 0:00:01\n",
      "\u001b[?25hRequirement already satisfied: six in /opt/conda/lib/python3.6/site-packages (from langdetect)\n",
      "Building wheels for collected packages: langdetect\n",
      "  Running setup.py bdist_wheel for langdetect ... \u001b[?25ldone\n",
      "\u001b[?25h  Stored in directory: /root/.cache/pip/wheels/ec/0c/a9/1647275e7ef5014e7b83ff30105180e332867d65e7617ddafe\n",
      "Successfully built langdetect\n",
      "Installing collected packages: langdetect\n",
      "Successfully installed langdetect-1.0.7\n",
      "\u001b[33mYou are using pip version 9.0.1, however version 10.0.1 is available.\n",
      "You should consider upgrading via the 'pip install --upgrade pip' command.\u001b[0m\n"
     ]
    }
   ],
   "source": [
    "#!python -m ipykernel list\n",
    "!pip install langdetect"
   ]
  },
  {
   "cell_type": "code",
   "execution_count": 2,
   "metadata": {},
   "outputs": [
    {
     "name": "stderr",
     "output_type": "stream",
     "text": [
      "Using TensorFlow backend.\n"
     ]
    },
    {
     "name": "stdout",
     "output_type": "stream",
     "text": [
      "Python 3.6.3\r\n"
     ]
    }
   ],
   "source": [
    "## Input libraries\n",
    "\n",
    "## system libraries\n",
    "\n",
    "import os\n",
    "import sys\n",
    "import glob\n",
    "import re\n",
    "\n",
    "## analysis libraries\n",
    "\n",
    "import pandas as pd\n",
    "import numpy as np\n",
    "\n",
    "\n",
    "## text and language processing\n",
    "from langdetect import detect\n",
    "import string\n",
    "#from string import punctuation\n",
    "import nltk\n",
    "from nltk.tokenize import word_tokenize,sent_tokenize\n",
    "#nltk.download('stopwords')\n",
    "#nltk.download('punkt')\n",
    "\n",
    "import pydot\n",
    "\n",
    "from nltk.corpus import stopwords\n",
    "\n",
    "from sklearn.manifold import TSNE\n",
    "## Keras\n",
    "# Keras\n",
    "from keras.preprocessing.text import Tokenizer\n",
    "from keras.preprocessing.sequence import pad_sequences\n",
    "from keras.models import Sequential\n",
    "from keras.layers import Dense, Flatten, LSTM, Conv1D, MaxPooling1D, Dropout, Activation, Bidirectional, GRU, BatchNormalization\n",
    "from keras.layers.embeddings import Embedding\n",
    "from keras.utils.vis_utils import plot_model\n",
    "from keras import optimizers\n",
    "\n",
    "\n",
    "\n",
    "## plotting\n",
    "import matplotlib.pyplot as plt\n",
    "import pylab as pl\n",
    "import seaborn as sns\n",
    "%matplotlib inline\n",
    "\n",
    "!python --version"
   ]
  },
  {
   "cell_type": "code",
   "execution_count": 3,
   "metadata": {},
   "outputs": [],
   "source": [
    "## Data source and files\n",
    "\n",
    "dir_data = r'data'\n",
    "\n",
    "file_train = r'data/train.csv'\n",
    "file_train_clean = r'train_clean.tsv'\n",
    "file_test = r'data/test.csv'"
   ]
  },
  {
   "cell_type": "code",
   "execution_count": 4,
   "metadata": {},
   "outputs": [
    {
     "name": "stdout",
     "output_type": "stream",
     "text": [
      "(20800, 5)\n"
     ]
    },
    {
     "data": {
      "text/html": [
       "<div>\n",
       "<style>\n",
       "    .dataframe thead tr:only-child th {\n",
       "        text-align: right;\n",
       "    }\n",
       "\n",
       "    .dataframe thead th {\n",
       "        text-align: left;\n",
       "    }\n",
       "\n",
       "    .dataframe tbody tr th {\n",
       "        vertical-align: top;\n",
       "    }\n",
       "</style>\n",
       "<table border=\"1\" class=\"dataframe\">\n",
       "  <thead>\n",
       "    <tr style=\"text-align: right;\">\n",
       "      <th></th>\n",
       "      <th>id</th>\n",
       "      <th>title</th>\n",
       "      <th>author</th>\n",
       "      <th>text</th>\n",
       "      <th>label</th>\n",
       "    </tr>\n",
       "  </thead>\n",
       "  <tbody>\n",
       "    <tr>\n",
       "      <th>0</th>\n",
       "      <td>0</td>\n",
       "      <td>House Dem Aide: We Didn’t Even See Comey’s Let...</td>\n",
       "      <td>Darrell Lucus</td>\n",
       "      <td>House Dem Aide: We Didn’t Even See Comey’s Let...</td>\n",
       "      <td>1</td>\n",
       "    </tr>\n",
       "    <tr>\n",
       "      <th>1</th>\n",
       "      <td>1</td>\n",
       "      <td>FLYNN: Hillary Clinton, Big Woman on Campus - ...</td>\n",
       "      <td>Daniel J. Flynn</td>\n",
       "      <td>Ever get the feeling your life circles the rou...</td>\n",
       "      <td>0</td>\n",
       "    </tr>\n",
       "    <tr>\n",
       "      <th>2</th>\n",
       "      <td>2</td>\n",
       "      <td>Why the Truth Might Get You Fired</td>\n",
       "      <td>Consortiumnews.com</td>\n",
       "      <td>Why the Truth Might Get You Fired October 29, ...</td>\n",
       "      <td>1</td>\n",
       "    </tr>\n",
       "    <tr>\n",
       "      <th>3</th>\n",
       "      <td>3</td>\n",
       "      <td>15 Civilians Killed In Single US Airstrike Hav...</td>\n",
       "      <td>Jessica Purkiss</td>\n",
       "      <td>Videos 15 Civilians Killed In Single US Airstr...</td>\n",
       "      <td>1</td>\n",
       "    </tr>\n",
       "    <tr>\n",
       "      <th>4</th>\n",
       "      <td>4</td>\n",
       "      <td>Iranian woman jailed for fictional unpublished...</td>\n",
       "      <td>Howard Portnoy</td>\n",
       "      <td>Print \\nAn Iranian woman has been sentenced to...</td>\n",
       "      <td>1</td>\n",
       "    </tr>\n",
       "  </tbody>\n",
       "</table>\n",
       "</div>"
      ],
      "text/plain": [
       "   id                                              title              author  \\\n",
       "0   0  House Dem Aide: We Didn’t Even See Comey’s Let...       Darrell Lucus   \n",
       "1   1  FLYNN: Hillary Clinton, Big Woman on Campus - ...     Daniel J. Flynn   \n",
       "2   2                  Why the Truth Might Get You Fired  Consortiumnews.com   \n",
       "3   3  15 Civilians Killed In Single US Airstrike Hav...     Jessica Purkiss   \n",
       "4   4  Iranian woman jailed for fictional unpublished...      Howard Portnoy   \n",
       "\n",
       "                                                text  label  \n",
       "0  House Dem Aide: We Didn’t Even See Comey’s Let...      1  \n",
       "1  Ever get the feeling your life circles the rou...      0  \n",
       "2  Why the Truth Might Get You Fired October 29, ...      1  \n",
       "3  Videos 15 Civilians Killed In Single US Airstr...      1  \n",
       "4  Print \\nAn Iranian woman has been sentenced to...      1  "
      ]
     },
     "execution_count": 4,
     "metadata": {},
     "output_type": "execute_result"
    }
   ],
   "source": [
    "#### Train Data summary\n",
    "\n",
    "train_all_df = pd.read_csv(file_train)\n",
    "\n",
    "print(train_all_df.shape)\n",
    "train_all_df.head()"
   ]
  },
  {
   "cell_type": "markdown",
   "metadata": {},
   "source": [
    "#### Remove empty articles"
   ]
  },
  {
   "cell_type": "code",
   "execution_count": 5,
   "metadata": {},
   "outputs": [
    {
     "name": "stdout",
     "output_type": "stream",
     "text": [
      "(20800, 5)\n"
     ]
    }
   ],
   "source": [
    "## remove empty cells\n",
    "train_all_df = train_all_df[train_all_df.text.apply(lambda x: x !=\"\")]\n",
    "\n",
    "print(train_all_df.shape)"
   ]
  },
  {
   "cell_type": "code",
   "execution_count": 6,
   "metadata": {},
   "outputs": [
    {
     "name": "stdout",
     "output_type": "stream",
     "text": [
      "(20761, 5)\n"
     ]
    }
   ],
   "source": [
    "## replace empty cells with NAN and remove rows with NA\n",
    "train_all_df['text'].replace('', np.nan, inplace=True)\n",
    "\n",
    "train_all_df.dropna(inplace=True,subset=['text','label'])\n",
    "\n",
    "train_all_df['text'].isnull().sum()\n",
    "\n",
    "print(train_all_df.shape)"
   ]
  },
  {
   "cell_type": "code",
   "execution_count": 7,
   "metadata": {},
   "outputs": [
    {
     "data": {
      "text/html": [
       "<div>\n",
       "<style>\n",
       "    .dataframe thead tr:only-child th {\n",
       "        text-align: right;\n",
       "    }\n",
       "\n",
       "    .dataframe thead th {\n",
       "        text-align: left;\n",
       "    }\n",
       "\n",
       "    .dataframe tbody tr th {\n",
       "        vertical-align: top;\n",
       "    }\n",
       "</style>\n",
       "<table border=\"1\" class=\"dataframe\">\n",
       "  <thead>\n",
       "    <tr style=\"text-align: right;\">\n",
       "      <th></th>\n",
       "      <th>label</th>\n",
       "      <th>variable</th>\n",
       "      <th>value</th>\n",
       "    </tr>\n",
       "  </thead>\n",
       "  <tbody>\n",
       "    <tr>\n",
       "      <th>0</th>\n",
       "      <td>0</td>\n",
       "      <td>author</td>\n",
       "      <td>10361</td>\n",
       "    </tr>\n",
       "    <tr>\n",
       "      <th>1</th>\n",
       "      <td>1</td>\n",
       "      <td>author</td>\n",
       "      <td>8482</td>\n",
       "    </tr>\n",
       "    <tr>\n",
       "      <th>2</th>\n",
       "      <td>0</td>\n",
       "      <td>text</td>\n",
       "      <td>10387</td>\n",
       "    </tr>\n",
       "    <tr>\n",
       "      <th>3</th>\n",
       "      <td>1</td>\n",
       "      <td>text</td>\n",
       "      <td>10374</td>\n",
       "    </tr>\n",
       "  </tbody>\n",
       "</table>\n",
       "</div>"
      ],
      "text/plain": [
       "   label variable  value\n",
       "0      0   author  10361\n",
       "1      1   author   8482\n",
       "2      0     text  10387\n",
       "3      1     text  10374"
      ]
     },
     "execution_count": 7,
     "metadata": {},
     "output_type": "execute_result"
    }
   ],
   "source": [
    "## summary of article labels by author and text\n",
    "#article_type_count = train_all_df[['author','label','text']].groupby(['label']).count().plot.bar(fontsize=20,figsize=(18, 9))\n",
    "\n",
    "article_type_count = train_all_df[['author','label','text']].groupby(['label']).count()\n",
    "article_type_count.reset_index(level=0, inplace=True)\n",
    "\n",
    "## melt dataframe\n",
    "melted = pd.melt(article_type_count,id_vars='label')\n",
    "\n",
    "melted"
   ]
  },
  {
   "cell_type": "code",
   "execution_count": 8,
   "metadata": {},
   "outputs": [
    {
     "name": "stderr",
     "output_type": "stream",
     "text": [
      "/opt/conda/lib/python3.6/site-packages/seaborn/axisgrid.py:703: UserWarning: Using the barplot function without specifying `order` is likely to produce an incorrect plot.\n",
      "  warnings.warn(warning)\n"
     ]
    },
    {
     "data": {
      "text/plain": [
       "<seaborn.axisgrid.FacetGrid at 0x7f0a19f09550>"
      ]
     },
     "execution_count": 8,
     "metadata": {},
     "output_type": "execute_result"
    },
    {
     "data": {
      "image/png": "[encoded data removed]",
      "text/plain": [
       "<matplotlib.figure.Figure at 0x7f0a19f09cf8>"
      ]
     },
     "metadata": {},
     "output_type": "display_data"
    }
   ],
   "source": [
    "## plot barplot with seaborn\n",
    "\n",
    "\n",
    "g = sns.FacetGrid(melted, col=\"label\",hue=\"label\",palette=\"Set3\",size=5, aspect=0.75)\n",
    "g.map(sns.barplot,'variable','value')\\\n",
    ".set_axis_labels(\"Author Vs Article\", \"Number of article\")"
   ]
  },
  {
   "cell_type": "code",
   "execution_count": 9,
   "metadata": {},
   "outputs": [
    {
     "data": {
      "text/html": [
       "<div>\n",
       "<style>\n",
       "    .dataframe thead tr:only-child th {\n",
       "        text-align: right;\n",
       "    }\n",
       "\n",
       "    .dataframe thead th {\n",
       "        text-align: left;\n",
       "    }\n",
       "\n",
       "    .dataframe tbody tr th {\n",
       "        vertical-align: top;\n",
       "    }\n",
       "</style>\n",
       "<table border=\"1\" class=\"dataframe\">\n",
       "  <thead>\n",
       "    <tr style=\"text-align: right;\">\n",
       "      <th></th>\n",
       "      <th>id</th>\n",
       "      <th>title</th>\n",
       "      <th>author</th>\n",
       "      <th>text</th>\n",
       "      <th>label</th>\n",
       "    </tr>\n",
       "  </thead>\n",
       "  <tbody>\n",
       "    <tr>\n",
       "      <th>0</th>\n",
       "      <td>0</td>\n",
       "      <td>House Dem Aide: We Didn’t Even See Comey’s Let...</td>\n",
       "      <td>Darrell Lucus</td>\n",
       "      <td>House Dem Aide: We Didn’t Even See Comey’s Let...</td>\n",
       "      <td>1</td>\n",
       "    </tr>\n",
       "    <tr>\n",
       "      <th>1</th>\n",
       "      <td>1</td>\n",
       "      <td>FLYNN: Hillary Clinton, Big Woman on Campus - ...</td>\n",
       "      <td>Daniel J. Flynn</td>\n",
       "      <td>Ever get the feeling your life circles the rou...</td>\n",
       "      <td>0</td>\n",
       "    </tr>\n",
       "    <tr>\n",
       "      <th>2</th>\n",
       "      <td>2</td>\n",
       "      <td>Why the Truth Might Get You Fired</td>\n",
       "      <td>Consortiumnews.com</td>\n",
       "      <td>Why the Truth Might Get You Fired October 29, ...</td>\n",
       "      <td>1</td>\n",
       "    </tr>\n",
       "    <tr>\n",
       "      <th>3</th>\n",
       "      <td>3</td>\n",
       "      <td>15 Civilians Killed In Single US Airstrike Hav...</td>\n",
       "      <td>Jessica Purkiss</td>\n",
       "      <td>Videos 15 Civilians Killed In Single US Airstr...</td>\n",
       "      <td>1</td>\n",
       "    </tr>\n",
       "    <tr>\n",
       "      <th>4</th>\n",
       "      <td>4</td>\n",
       "      <td>Iranian woman jailed for fictional unpublished...</td>\n",
       "      <td>Howard Portnoy</td>\n",
       "      <td>Print \\nAn Iranian woman has been sentenced to...</td>\n",
       "      <td>1</td>\n",
       "    </tr>\n",
       "  </tbody>\n",
       "</table>\n",
       "</div>"
      ],
      "text/plain": [
       "   id                                              title              author  \\\n",
       "0   0  House Dem Aide: We Didn’t Even See Comey’s Let...       Darrell Lucus   \n",
       "1   1  FLYNN: Hillary Clinton, Big Woman on Campus - ...     Daniel J. Flynn   \n",
       "2   2                  Why the Truth Might Get You Fired  Consortiumnews.com   \n",
       "3   3  15 Civilians Killed In Single US Airstrike Hav...     Jessica Purkiss   \n",
       "4   4  Iranian woman jailed for fictional unpublished...      Howard Portnoy   \n",
       "\n",
       "                                                text  label  \n",
       "0  House Dem Aide: We Didn’t Even See Comey’s Let...      1  \n",
       "1  Ever get the feeling your life circles the rou...      0  \n",
       "2  Why the Truth Might Get You Fired October 29, ...      1  \n",
       "3  Videos 15 Civilians Killed In Single US Airstr...      1  \n",
       "4  Print \\nAn Iranian woman has been sentenced to...      1  "
      ]
     },
     "execution_count": 9,
     "metadata": {},
     "output_type": "execute_result"
    }
   ],
   "source": [
    "train_all_df.head()"
   ]
  },
  {
   "cell_type": "code",
   "execution_count": 10,
   "metadata": {},
   "outputs": [],
   "source": [
    "### Detect the language of the text article in a list\n",
    "\n",
    "def lang_detect_list(list_docs):\n",
    "    \"\"\"\n",
    "    Check if txt exit, Check lang\n",
    "    else, print n lang\n",
    "    \"\"\"\n",
    "    lang = []\n",
    "    for obj in list_docs:\n",
    "        obj = obj[:100]\n",
    "        if re.search('\\w',obj):\n",
    "        #if isinstance(obj, str) and obj is not None:\n",
    "            #print('obj is a string!')\n",
    "            #print(detect(obj)) # for x in train_all_df['text'][:10]]\n",
    "            try:\n",
    "                lang_str = detect(obj)\n",
    "            except:\n",
    "                lang_str = 'exception'\n",
    "            \n",
    "            lang.append(lang_str)\n",
    "\n",
    "        else:\n",
    "            lang.append('NoString')\n",
    "            \n",
    "    return(lang)"
   ]
  },
  {
   "cell_type": "code",
   "execution_count": 11,
   "metadata": {},
   "outputs": [],
   "source": [
    "#train_all_df.\n",
    "#lang_detect_list(train_all_df['text'][:200])\n",
    "\n",
    "lang_list = lang_detect_list(train_all_df['text'])"
   ]
  },
  {
   "cell_type": "code",
   "execution_count": 12,
   "metadata": {},
   "outputs": [],
   "source": [
    "## add the language as a column \n",
    "train_all_df['lang'] = lang_detect_list(train_all_df['text'])"
   ]
  },
  {
   "cell_type": "code",
   "execution_count": 13,
   "metadata": {},
   "outputs": [
    {
     "data": {
      "text/html": [
       "<div>\n",
       "<style>\n",
       "    .dataframe thead tr:only-child th {\n",
       "        text-align: right;\n",
       "    }\n",
       "\n",
       "    .dataframe thead th {\n",
       "        text-align: left;\n",
       "    }\n",
       "\n",
       "    .dataframe tbody tr th {\n",
       "        vertical-align: top;\n",
       "    }\n",
       "</style>\n",
       "<table border=\"1\" class=\"dataframe\">\n",
       "  <thead>\n",
       "    <tr style=\"text-align: right;\">\n",
       "      <th></th>\n",
       "      <th>id</th>\n",
       "      <th>title</th>\n",
       "      <th>author</th>\n",
       "      <th>text</th>\n",
       "      <th>label</th>\n",
       "      <th>lang</th>\n",
       "    </tr>\n",
       "  </thead>\n",
       "  <tbody>\n",
       "    <tr>\n",
       "      <th>0</th>\n",
       "      <td>0</td>\n",
       "      <td>House Dem Aide: We Didn’t Even See Comey’s Let...</td>\n",
       "      <td>Darrell Lucus</td>\n",
       "      <td>House Dem Aide: We Didn’t Even See Comey’s Let...</td>\n",
       "      <td>1</td>\n",
       "      <td>en</td>\n",
       "    </tr>\n",
       "    <tr>\n",
       "      <th>1</th>\n",
       "      <td>1</td>\n",
       "      <td>FLYNN: Hillary Clinton, Big Woman on Campus - ...</td>\n",
       "      <td>Daniel J. Flynn</td>\n",
       "      <td>Ever get the feeling your life circles the rou...</td>\n",
       "      <td>0</td>\n",
       "      <td>en</td>\n",
       "    </tr>\n",
       "    <tr>\n",
       "      <th>2</th>\n",
       "      <td>2</td>\n",
       "      <td>Why the Truth Might Get You Fired</td>\n",
       "      <td>Consortiumnews.com</td>\n",
       "      <td>Why the Truth Might Get You Fired October 29, ...</td>\n",
       "      <td>1</td>\n",
       "      <td>en</td>\n",
       "    </tr>\n",
       "    <tr>\n",
       "      <th>3</th>\n",
       "      <td>3</td>\n",
       "      <td>15 Civilians Killed In Single US Airstrike Hav...</td>\n",
       "      <td>Jessica Purkiss</td>\n",
       "      <td>Videos 15 Civilians Killed In Single US Airstr...</td>\n",
       "      <td>1</td>\n",
       "      <td>en</td>\n",
       "    </tr>\n",
       "    <tr>\n",
       "      <th>4</th>\n",
       "      <td>4</td>\n",
       "      <td>Iranian woman jailed for fictional unpublished...</td>\n",
       "      <td>Howard Portnoy</td>\n",
       "      <td>Print \\nAn Iranian woman has been sentenced to...</td>\n",
       "      <td>1</td>\n",
       "      <td>en</td>\n",
       "    </tr>\n",
       "  </tbody>\n",
       "</table>\n",
       "</div>"
      ],
      "text/plain": [
       "   id                                              title              author  \\\n",
       "0   0  House Dem Aide: We Didn’t Even See Comey’s Let...       Darrell Lucus   \n",
       "1   1  FLYNN: Hillary Clinton, Big Woman on Campus - ...     Daniel J. Flynn   \n",
       "2   2                  Why the Truth Might Get You Fired  Consortiumnews.com   \n",
       "3   3  15 Civilians Killed In Single US Airstrike Hav...     Jessica Purkiss   \n",
       "4   4  Iranian woman jailed for fictional unpublished...      Howard Portnoy   \n",
       "\n",
       "                                                text  label lang  \n",
       "0  House Dem Aide: We Didn’t Even See Comey’s Let...      1   en  \n",
       "1  Ever get the feeling your life circles the rou...      0   en  \n",
       "2  Why the Truth Might Get You Fired October 29, ...      1   en  \n",
       "3  Videos 15 Civilians Killed In Single US Airstr...      1   en  \n",
       "4  Print \\nAn Iranian woman has been sentenced to...      1   en  "
      ]
     },
     "execution_count": 13,
     "metadata": {},
     "output_type": "execute_result"
    }
   ],
   "source": [
    "train_all_df.head()"
   ]
  },
  {
   "cell_type": "code",
   "execution_count": 14,
   "metadata": {},
   "outputs": [],
   "source": [
    "## write the modified data as a file\n",
    "out_file = dir_data + '/' + file_train_clean\n",
    "train_all_df.to_csv(out_file,sep='\\t')\n"
   ]
  },
  {
   "cell_type": "code",
   "execution_count": 15,
   "metadata": {},
   "outputs": [
    {
     "data": {
      "text/html": [
       "<div>\n",
       "<style>\n",
       "    .dataframe thead tr:only-child th {\n",
       "        text-align: right;\n",
       "    }\n",
       "\n",
       "    .dataframe thead th {\n",
       "        text-align: left;\n",
       "    }\n",
       "\n",
       "    .dataframe tbody tr th {\n",
       "        vertical-align: top;\n",
       "    }\n",
       "</style>\n",
       "<table border=\"1\" class=\"dataframe\">\n",
       "  <thead>\n",
       "    <tr style=\"text-align: right;\">\n",
       "      <th></th>\n",
       "      <th>lang</th>\n",
       "      <th>label</th>\n",
       "      <th>author</th>\n",
       "    </tr>\n",
       "  </thead>\n",
       "  <tbody>\n",
       "    <tr>\n",
       "      <th>0</th>\n",
       "      <td>NoString</td>\n",
       "      <td>1</td>\n",
       "      <td>75</td>\n",
       "    </tr>\n",
       "    <tr>\n",
       "      <th>1</th>\n",
       "      <td>af</td>\n",
       "      <td>1</td>\n",
       "      <td>2</td>\n",
       "    </tr>\n",
       "    <tr>\n",
       "      <th>2</th>\n",
       "      <td>ar</td>\n",
       "      <td>1</td>\n",
       "      <td>4</td>\n",
       "    </tr>\n",
       "    <tr>\n",
       "      <th>3</th>\n",
       "      <td>ca</td>\n",
       "      <td>1</td>\n",
       "      <td>4</td>\n",
       "    </tr>\n",
       "    <tr>\n",
       "      <th>4</th>\n",
       "      <td>cy</td>\n",
       "      <td>1</td>\n",
       "      <td>2</td>\n",
       "    </tr>\n",
       "  </tbody>\n",
       "</table>\n",
       "</div>"
      ],
      "text/plain": [
       "       lang  label  author\n",
       "0  NoString      1      75\n",
       "1        af      1       2\n",
       "2        ar      1       4\n",
       "3        ca      1       4\n",
       "4        cy      1       2"
      ]
     },
     "execution_count": 15,
     "metadata": {},
     "output_type": "execute_result"
    }
   ],
   "source": [
    "## Languages for articles\n",
    "\n",
    "lang_label_summary = train_all_df[['lang','label','author']].groupby(['lang','label']).agg('count').reset_index()\n",
    "\n",
    "lang_label_summary.head()"
   ]
  },
  {
   "cell_type": "code",
   "execution_count": 16,
   "metadata": {},
   "outputs": [
    {
     "data": {
      "text/plain": [
       "<matplotlib.legend.Legend at 0x7f0a141cd240>"
      ]
     },
     "execution_count": 16,
     "metadata": {},
     "output_type": "execute_result"
    },
    {
     "data": {
      "image/png": "[encoded data removed]",
      "text/plain": [
       "<matplotlib.figure.Figure at 0x7f0a141cd400>"
      ]
     },
     "metadata": {},
     "output_type": "display_data"
    }
   ],
   "source": [
    "## plot the number of articles by language and article type\n",
    "\n",
    "ax = lang_label_summary.pivot(index='lang',columns='label',values='author').plot.bar(fontsize=15,figsize=(18, 6))\n",
    "\n",
    "ax.set_xlabel(\"Languages (includes not defined)\",fontsize=15)\n",
    "ax.set_ylabel(\"Number of author\",fontsize=15)\n",
    "ax.set_title('Number of authors by languge and type of article',fontsize= 20) \n",
    "ax.legend(fontsize=15)"
   ]
  },
  {
   "cell_type": "markdown",
   "metadata": {},
   "source": [
    "#### Non english articles "
   ]
  },
  {
   "cell_type": "code",
   "execution_count": 17,
   "metadata": {},
   "outputs": [
    {
     "data": {
      "text/plain": [
       "(20099, 6)"
      ]
     },
     "execution_count": 17,
     "metadata": {},
     "output_type": "execute_result"
    }
   ],
   "source": [
    "train_all_df[train_all_df['lang'] == 'en'].shape"
   ]
  },
  {
   "cell_type": "code",
   "execution_count": 18,
   "metadata": {},
   "outputs": [],
   "source": [
    "train_all_df = train_all_df[train_all_df['lang'] == 'en']"
   ]
  },
  {
   "cell_type": "code",
   "execution_count": null,
   "metadata": {},
   "outputs": [],
   "source": []
  },
  {
   "cell_type": "markdown",
   "metadata": {},
   "source": [
    "#### Tokenize the text and clean"
   ]
  },
  {
   "cell_type": "code",
   "execution_count": 19,
   "metadata": {},
   "outputs": [],
   "source": [
    "\n",
    "df_all = train_all_df[['text','label']]\n",
    "\n",
    "### select rows\n",
    "#df = df_all.iloc[0:500]\n",
    "#labels =\n",
    "df = df_all\n",
    "\n",
    "### Create sequence\n",
    "vocabulary_size = 20000\n",
    "\n",
    "tokenizer = Tokenizer(num_words= vocabulary_size, filters='!\"#$%&()*+,-./:;<=>?@[\\\\]^_`{|}~\\t\\n',\n",
    "                      lower=True,split=' ')\n",
    "tokenizer.fit_on_texts(df['text'])\n",
    "sequences = tokenizer.texts_to_sequences(df['text'])\n",
    "data_all = pad_sequences(sequences, maxlen=50)"
   ]
  },
  {
   "cell_type": "code",
   "execution_count": 20,
   "metadata": {},
   "outputs": [
    {
     "data": {
      "text/plain": [
       "15000"
      ]
     },
     "execution_count": 20,
     "metadata": {},
     "output_type": "execute_result"
    }
   ],
   "source": [
    "data = data_all[:15000]\n",
    "label = df.iloc[:15000,1]\n",
    "len(data)\n",
    "#print(data[:10])"
   ]
  },
  {
   "cell_type": "markdown",
   "metadata": {},
   "source": [
    "#### Build the word embedding LSTM model 1"
   ]
  },
  {
   "cell_type": "code",
   "execution_count": 21,
   "metadata": {},
   "outputs": [
    {
     "name": "stdout",
     "output_type": "stream",
     "text": [
      "_________________________________________________________________\n",
      "Layer (type)                 Output Shape              Param #   \n",
      "=================================================================\n",
      "embedding_1 (Embedding)      (None, 50, 128)           2560000   \n",
      "_________________________________________________________________\n",
      "lstm_1 (LSTM)                (None, 150)               167400    \n",
      "_________________________________________________________________\n",
      "dense_1 (Dense)              (None, 1)                 151       \n",
      "=================================================================\n",
      "Total params: 2,727,551\n",
      "Trainable params: 2,727,551\n",
      "Non-trainable params: 0\n",
      "_________________________________________________________________\n"
     ]
    }
   ],
   "source": [
    "## Network architecture\n",
    "embeding_size = 128\n",
    "\n",
    "model1 = Sequential()\n",
    "model1.add(Embedding(20000, embeding_size, input_length=50))\n",
    "model1.add(LSTM(150, dropout=0.2, recurrent_dropout=0.2))\n",
    "model1.add(Dense(1, activation='sigmoid'))\n",
    "model1.compile(loss='binary_crossentropy', optimizer='adam', metrics=['accuracy'])\n",
    "\n",
    "## Show the model\n",
    "model1.summary()"
   ]
  },
  {
   "cell_type": "code",
   "execution_count": 22,
   "metadata": {},
   "outputs": [],
   "source": [
    "#plot_model(model1, to_file='model_plot.png', show_shapes=True, show_layer_names=True)"
   ]
  },
  {
   "cell_type": "markdown",
   "metadata": {},
   "source": [
    "#### Run the model"
   ]
  },
  {
   "cell_type": "code",
   "execution_count": 23,
   "metadata": {},
   "outputs": [
    {
     "name": "stdout",
     "output_type": "stream",
     "text": [
      "Train on 12000 samples, validate on 3000 samples\n",
      "Epoch 1/10\n",
      "12000/12000 [==============================] - 40s 3ms/step - loss: 0.3382 - acc: 0.8532 - val_loss: 0.2428 - val_acc: 0.8963\n",
      "Epoch 2/10\n",
      "12000/12000 [==============================] - 38s 3ms/step - loss: 0.1426 - acc: 0.9486 - val_loss: 0.2861 - val_acc: 0.8823\n",
      "Epoch 3/10\n",
      "12000/12000 [==============================] - 38s 3ms/step - loss: 0.0749 - acc: 0.9747 - val_loss: 0.3838 - val_acc: 0.8943\n",
      "Epoch 4/10\n",
      "12000/12000 [==============================] - 38s 3ms/step - loss: 0.0344 - acc: 0.9877 - val_loss: 0.4520 - val_acc: 0.8810\n",
      "Epoch 5/10\n",
      "12000/12000 [==============================] - 38s 3ms/step - loss: 0.0276 - acc: 0.9916 - val_loss: 0.4265 - val_acc: 0.8940\n",
      "Epoch 6/10\n",
      "12000/12000 [==============================] - 37s 3ms/step - loss: 0.0168 - acc: 0.9946 - val_loss: 0.4838 - val_acc: 0.8910\n",
      "Epoch 7/10\n",
      "12000/12000 [==============================] - 38s 3ms/step - loss: 0.0173 - acc: 0.9943 - val_loss: 0.7401 - val_acc: 0.8697\n",
      "Epoch 8/10\n",
      "12000/12000 [==============================] - 38s 3ms/step - loss: 0.0083 - acc: 0.9974 - val_loss: 0.5297 - val_acc: 0.8673\n",
      "Epoch 9/10\n",
      "12000/12000 [==============================] - 37s 3ms/step - loss: 0.0083 - acc: 0.9972 - val_loss: 0.6785 - val_acc: 0.8840\n",
      "Epoch 10/10\n",
      "12000/12000 [==============================] - 37s 3ms/step - loss: 0.0099 - acc: 0.9970 - val_loss: 0.6406 - val_acc: 0.8897\n"
     ]
    },
    {
     "data": {
      "text/plain": [
       "<keras.callbacks.History at 0x7f0a19f09278>"
      ]
     },
     "execution_count": 23,
     "metadata": {},
     "output_type": "execute_result"
    }
   ],
   "source": [
    "## Fit the model\n",
    "model1.fit(data, np.array(label), validation_split=0.2, epochs=10)"
   ]
  },
  {
   "cell_type": "code",
   "execution_count": 24,
   "metadata": {},
   "outputs": [],
   "source": [
    "#stop"
   ]
  },
  {
   "cell_type": "markdown",
   "metadata": {},
   "source": [
    "#### Evaluate the model"
   ]
  },
  {
   "cell_type": "code",
   "execution_count": 25,
   "metadata": {},
   "outputs": [],
   "source": [
    "## Evaluate the model\n",
    "X_test = data_all[15000:]\n",
    "Y_test =  df.iloc[15000:,1]"
   ]
  },
  {
   "cell_type": "code",
   "execution_count": 26,
   "metadata": {},
   "outputs": [
    {
     "name": "stdout",
     "output_type": "stream",
     "text": [
      "Score: 0.60\n",
      "Validation Accuracy: 0.89\n"
     ]
    }
   ],
   "source": [
    "\n",
    "score,acc  =  model1.evaluate(X_test, Y_test, verbose = 2)\n",
    "print(\"Score: %.2f\" % (score))\n",
    "print(\"Validation Accuracy: %.2f\" % (acc))"
   ]
  },
  {
   "cell_type": "markdown",
   "metadata": {},
   "source": [
    "prediction_sigmoid "
   ]
  },
  {
   "cell_type": "code",
   "execution_count": 27,
   "metadata": {},
   "outputs": [],
   "source": [
    "## Prediction of the labels\n",
    "\n",
    "prediction_sigmoid = model1.predict(X_test, verbose = 2)"
   ]
  },
  {
   "cell_type": "code",
   "execution_count": 28,
   "metadata": {},
   "outputs": [
    {
     "name": "stdout",
     "output_type": "stream",
     "text": [
      "(5099, 1)\n",
      "(5099,)\n"
     ]
    }
   ],
   "source": [
    "## Convert prediction (floats) to integer and compile predictions\n",
    "\n",
    "print(prediction_sigmoid.shape)\n",
    "\n",
    "predict_sigmoid_round = prediction_sigmoid.round()\n",
    "\n",
    "#print(predict_sigmoid_round)\n",
    "\n",
    "print(np.reshape(predict_sigmoid_round,len(predict_sigmoid_round)).shape)\n",
    "\n",
    "predicted_label = list(np.reshape(predict_sigmoid_round,len(predict_sigmoid_round)))"
   ]
  },
  {
   "cell_type": "code",
   "execution_count": 29,
   "metadata": {},
   "outputs": [],
   "source": [
    "## Compute the TP, TN, FP, FN values\n",
    "\n",
    "def get_matrics_binary(Y_original,Y_prediction):\n",
    "    \"\"\"\n",
    "    Input list of original and preidcted labels \n",
    "    for binary classifiers (0,1)\n",
    "    \"\"\"\n",
    "    Y_original = np.asarray(Y_original)\n",
    "    Y_prediction = np.asarray(Y_prediction)\n",
    "    \n",
    "    if len(Y_original) == len(Y_prediction):\n",
    "        ## TP\n",
    "        TP = np.sum(np.logical_and(Y_original == 1, Y_prediction == 1)) \n",
    "        \n",
    "        ## FP\n",
    "        TN = np.sum(np.logical_and(Y_original == 0, Y_prediction == 0))\n",
    "        \n",
    "        ## \n",
    "        FP = np.sum(np.logical_and(Y_original == 0, Y_prediction == 1)) \n",
    "        \n",
    "        ## FP\n",
    "        FN = np.sum(np.logical_and(Y_original == 1, Y_prediction == 0))\n",
    "        \n",
    "    return(TP,TN,FP,FN)\n",
    "\n",
    "\n"
   ]
  },
  {
   "cell_type": "markdown",
   "metadata": {},
   "source": [
    "#### Evaluation matrices\n",
    "\n",
    "- Precision \n",
    "- Recall\n",
    "- F beta-score\n"
   ]
  },
  {
   "cell_type": "code",
   "execution_count": 30,
   "metadata": {},
   "outputs": [],
   "source": [
    "TP,TN,FP,FN = get_matrics_binary(Y_test,predicted_label)"
   ]
  },
  {
   "cell_type": "code",
   "execution_count": 31,
   "metadata": {},
   "outputs": [],
   "source": [
    "## Calculate TP, TN, FP, FN, Precision, Recall and F1 score\n",
    "def get_prec_recall_f1(TP,TN,FP,FN):\n",
    "    \"\"\"\n",
    "    Input provide the values for TP,TN,FP,FN\n",
    "    Output: get the precision, recall and the F1 score\n",
    "    \"\"\"\n",
    "    ## Calculate precision and recall\n",
    "    recall = float(TP)/(TP + FN)\n",
    "    precision = float(TP)/(TP + FP)\n",
    "\n",
    "    print(\"Recall: {}, Precision: {}\".format(recall, precision))\n",
    "    \n",
    "    ## Calculate F-score using the formula with beta = 0.5\n",
    "    beta = 0.5\n",
    "    fscore = (1 + beta**2) * (precision * recall)/((beta**2)*precision + recall)\n",
    "    # Print the results \n",
    "    print(\"F beta-score: {}\".format(fscore))"
   ]
  },
  {
   "cell_type": "code",
   "execution_count": 32,
   "metadata": {},
   "outputs": [
    {
     "name": "stdout",
     "output_type": "stream",
     "text": [
      "Recall: 0.8797902379991932, Precision: 0.8862251117431938\n",
      "F beta-score: 0.8849306175444293\n"
     ]
    }
   ],
   "source": [
    "get_prec_recall_f1(TP,TN,FP,FN)"
   ]
  },
  {
   "cell_type": "markdown",
   "metadata": {},
   "source": [
    "#### Build the word embedding bidirectional LSTM model 2"
   ]
  },
  {
   "cell_type": "code",
   "execution_count": 74,
   "metadata": {},
   "outputs": [
    {
     "name": "stdout",
     "output_type": "stream",
     "text": [
      "_________________________________________________________________\n",
      "Layer (type)                 Output Shape              Param #   \n",
      "=================================================================\n",
      "embedding_15 (Embedding)     (None, 50, 128)           2560000   \n",
      "_________________________________________________________________\n",
      "bidirectional_13 (Bidirectio (None, 300)               334800    \n",
      "_________________________________________________________________\n",
      "dense_15 (Dense)             (None, 1)                 301       \n",
      "=================================================================\n",
      "Total params: 2,895,101\n",
      "Trainable params: 2,895,101\n",
      "Non-trainable params: 0\n",
      "_________________________________________________________________\n"
     ]
    }
   ],
   "source": [
    "## Network architecture\n",
    "embeding_size = 128\n",
    "\n",
    "model2 = Sequential()\n",
    "model2.add(Embedding(20000, embeding_size, input_length=50))\n",
    "model2.add(Bidirectional(LSTM(150, dropout=0.2, recurrent_dropout=0.2)))\n",
    "model2.add(Dense(1, activation='sigmoid'))\n",
    "model2.compile(loss='binary_crossentropy', optimizer='adam', metrics=['accuracy'])\n",
    "\n",
    "## Show the model\n",
    "model2.summary()"
   ]
  },
  {
   "cell_type": "code",
   "execution_count": 75,
   "metadata": {},
   "outputs": [
    {
     "name": "stdout",
     "output_type": "stream",
     "text": [
      "Train on 12000 samples, validate on 3000 samples\n",
      "Epoch 1/25\n",
      "12000/12000 [==============================] - 75s 6ms/step - loss: 0.3199 - acc: 0.8608 - val_loss: 0.2778 - val_acc: 0.8910\n",
      "Epoch 2/25\n",
      "12000/12000 [==============================] - 70s 6ms/step - loss: 0.1236 - acc: 0.9553 - val_loss: 0.2596 - val_acc: 0.8957\n",
      "Epoch 3/25\n",
      "12000/12000 [==============================] - 70s 6ms/step - loss: 0.0544 - acc: 0.9817 - val_loss: 0.3547 - val_acc: 0.8920\n",
      "Epoch 4/25\n",
      "12000/12000 [==============================] - 71s 6ms/step - loss: 0.0371 - acc: 0.9888 - val_loss: 0.4402 - val_acc: 0.8843\n",
      "Epoch 5/25\n",
      "12000/12000 [==============================] - 71s 6ms/step - loss: 0.0166 - acc: 0.9952 - val_loss: 0.6584 - val_acc: 0.8883\n",
      "Epoch 6/25\n",
      "12000/12000 [==============================] - 71s 6ms/step - loss: 0.0171 - acc: 0.9948 - val_loss: 0.5444 - val_acc: 0.8883\n",
      "Epoch 7/25\n",
      "12000/12000 [==============================] - 69s 6ms/step - loss: 0.0121 - acc: 0.9964 - val_loss: 0.6444 - val_acc: 0.8800\n",
      "Epoch 8/25\n",
      "12000/12000 [==============================] - 70s 6ms/step - loss: 0.0037 - acc: 0.9990 - val_loss: 0.6438 - val_acc: 0.8860\n",
      "Epoch 9/25\n",
      "12000/12000 [==============================] - 71s 6ms/step - loss: 0.0049 - acc: 0.9981 - val_loss: 0.7199 - val_acc: 0.8890\n",
      "Epoch 10/25\n",
      "12000/12000 [==============================] - 70s 6ms/step - loss: 0.0073 - acc: 0.9975 - val_loss: 0.5572 - val_acc: 0.8733\n",
      "Epoch 11/25\n",
      "12000/12000 [==============================] - 72s 6ms/step - loss: 0.0058 - acc: 0.9982 - val_loss: 0.5666 - val_acc: 0.8917\n",
      "Epoch 12/25\n",
      "12000/12000 [==============================] - 72s 6ms/step - loss: 0.0054 - acc: 0.9981 - val_loss: 0.5544 - val_acc: 0.8887\n",
      "Epoch 13/25\n",
      "12000/12000 [==============================] - 72s 6ms/step - loss: 0.0044 - acc: 0.9985 - val_loss: 0.6541 - val_acc: 0.8887\n",
      "Epoch 14/25\n",
      "12000/12000 [==============================] - 72s 6ms/step - loss: 0.0034 - acc: 0.9989 - val_loss: 0.6179 - val_acc: 0.8953\n",
      "Epoch 15/25\n",
      "12000/12000 [==============================] - 71s 6ms/step - loss: 0.0011 - acc: 0.9997 - val_loss: 0.8890 - val_acc: 0.8890\n",
      "Epoch 16/25\n",
      "12000/12000 [==============================] - 71s 6ms/step - loss: 0.0018 - acc: 0.9998 - val_loss: 0.7618 - val_acc: 0.8903\n",
      "Epoch 17/25\n",
      "12000/12000 [==============================] - 72s 6ms/step - loss: 2.6302e-04 - acc: 1.0000 - val_loss: 0.7776 - val_acc: 0.8890\n",
      "Epoch 18/25\n",
      "12000/12000 [==============================] - 72s 6ms/step - loss: 7.2049e-05 - acc: 1.0000 - val_loss: 0.8211 - val_acc: 0.8920\n",
      "Epoch 19/25\n",
      "12000/12000 [==============================] - 71s 6ms/step - loss: 1.0627e-04 - acc: 1.0000 - val_loss: 0.7940 - val_acc: 0.8887\n",
      "Epoch 20/25\n",
      "12000/12000 [==============================] - 72s 6ms/step - loss: 3.8347e-05 - acc: 1.0000 - val_loss: 0.8109 - val_acc: 0.8957\n",
      "Epoch 21/25\n",
      "12000/12000 [==============================] - 71s 6ms/step - loss: 1.5456e-05 - acc: 1.0000 - val_loss: 0.8325 - val_acc: 0.8947\n",
      "Epoch 22/25\n",
      "12000/12000 [==============================] - 72s 6ms/step - loss: 7.6829e-06 - acc: 1.0000 - val_loss: 0.8763 - val_acc: 0.8947\n",
      "Epoch 23/25\n",
      "12000/12000 [==============================] - 72s 6ms/step - loss: 1.5431e-05 - acc: 1.0000 - val_loss: 0.7664 - val_acc: 0.8950\n",
      "Epoch 24/25\n",
      "12000/12000 [==============================] - 72s 6ms/step - loss: 1.0574e-05 - acc: 1.0000 - val_loss: 0.8780 - val_acc: 0.8930\n",
      "Epoch 25/25\n",
      "12000/12000 [==============================] - 73s 6ms/step - loss: 3.4041e-06 - acc: 1.0000 - val_loss: 0.9131 - val_acc: 0.8937\n"
     ]
    }
   ],
   "source": [
    "## Fit the model (capture the output for plotting the learning rate)\n",
    "mod2_fit = model2.fit(data, np.array(label), validation_split=0.2, epochs=25)"
   ]
  },
  {
   "cell_type": "code",
   "execution_count": null,
   "metadata": {},
   "outputs": [],
   "source": [
    "## Evaluation of model 2\n",
    "\n",
    "\n",
    "score,acc  =  model2.evaluate(X_test, Y_test, verbose = 2)\n",
    "print(\"Score: %.2f\" % (score))\n",
    "print(\"Validation Accuracy: %.2f\" % (acc))"
   ]
  },
  {
   "cell_type": "code",
   "execution_count": null,
   "metadata": {},
   "outputs": [],
   "source": [
    "## Prediction of the labels\n",
    "\n",
    "prediction_sigmoid = model2.predict(X_test, verbose = 2)\n",
    "\n",
    "## Convert prediction (floats) to integer and compile predictions\n",
    "\n",
    "print(prediction_sigmoid.shape)\n",
    "\n",
    "predict_sigmoid_round = prediction_sigmoid.round()\n",
    "\n",
    "#print(predict_sigmoid_round)\n",
    "\n",
    "print(np.reshape(predict_sigmoid_round,len(predict_sigmoid_round)).shape)\n",
    "\n",
    "predicted_label = list(np.reshape(predict_sigmoid_round,len(predict_sigmoid_round)))"
   ]
  },
  {
   "cell_type": "code",
   "execution_count": null,
   "metadata": {},
   "outputs": [],
   "source": [
    "## Evaluation matrics\n",
    "\n",
    "TP,TN,FP,FN = get_matrics_binary(Y_test,predicted_label)\n",
    "\n",
    "get_prec_recall_f1(TP,TN,FP,FN)"
   ]
  },
  {
   "cell_type": "markdown",
   "metadata": {},
   "source": [
    "#### Plot for the larning rate"
   ]
  },
  {
   "cell_type": "code",
   "execution_count": 76,
   "metadata": {},
   "outputs": [],
   "source": [
    "hist = mod2_fit"
   ]
  },
  {
   "cell_type": "code",
   "execution_count": 77,
   "metadata": {},
   "outputs": [
    {
     "name": "stderr",
     "output_type": "stream",
     "text": [
      "/opt/conda/lib/python3.6/site-packages/matplotlib/figure.py:418: UserWarning: matplotlib is currently using a non-GUI backend, so cannot show the figure\n",
      "  \"matplotlib is currently using a non-GUI backend, \"\n"
     ]
    },
    {
     "data": {
      "image/png": "[encoded data removed]",
      "text/plain": [
       "<matplotlib.figure.Figure at 0x7f41c48c5748>"
      ]
     },
     "metadata": {},
     "output_type": "display_data"
    }
   ],
   "source": [
    "fig = plt.figure(figsize = (12,5)) \n",
    "ax = fig.add_subplot(111)\n",
    "x = np.array(range(1, len(hist.history['loss'])+1))\n",
    "y = np.transpose([hist.history[k] for k in ['loss', 'val_loss']])\n",
    "ax.plot(x, y)\n",
    "fig.show()"
   ]
  },
  {
   "cell_type": "markdown",
   "metadata": {},
   "source": [
    "#### LSTM model 3"
   ]
  },
  {
   "cell_type": "code",
   "execution_count": 65,
   "metadata": {},
   "outputs": [
    {
     "name": "stdout",
     "output_type": "stream",
     "text": [
      "_________________________________________________________________\n",
      "Layer (type)                 Output Shape              Param #   \n",
      "=================================================================\n",
      "embedding_12 (Embedding)     (None, 50, 128)           2560000   \n",
      "_________________________________________________________________\n",
      "bidirectional_10 (Bidirectio (None, 300)               334800    \n",
      "_________________________________________________________________\n",
      "dense_12 (Dense)             (None, 1)                 301       \n",
      "=================================================================\n",
      "Total params: 2,895,101\n",
      "Trainable params: 2,895,101\n",
      "Non-trainable params: 0\n",
      "_________________________________________________________________\n"
     ]
    }
   ],
   "source": [
    "## Network architecture\n",
    "embeding_size = 128\n",
    "\n",
    "model3 = Sequential()\n",
    "model3.add(Embedding(20000, embeding_size, input_length=50))\n",
    "model3.add(Bidirectional(LSTM(150, dropout=0.4, recurrent_dropout=0.2)))\n",
    "model3.add(Dense(1, activation='sigmoid'))\n",
    "\n",
    "## adam learning rate\n",
    "adam = optimizers.Adam(lr=0.01)\n",
    "model3.compile(loss='binary_crossentropy', optimizer=adam, metrics=['accuracy'])\n",
    "\n",
    "## Show the model\n",
    "model3.summary()"
   ]
  },
  {
   "cell_type": "code",
   "execution_count": 66,
   "metadata": {},
   "outputs": [
    {
     "name": "stdout",
     "output_type": "stream",
     "text": [
      "Train on 12000 samples, validate on 3000 samples\n",
      "Epoch 1/25\n",
      "12000/12000 [==============================] - 74s 6ms/step - loss: 0.3757 - acc: 0.8281 - val_loss: 0.3251 - val_acc: 0.8693\n",
      "Epoch 2/25\n",
      "12000/12000 [==============================] - 71s 6ms/step - loss: 0.1677 - acc: 0.9347 - val_loss: 0.2816 - val_acc: 0.8867\n",
      "Epoch 3/25\n",
      "12000/12000 [==============================] - 72s 6ms/step - loss: 0.0732 - acc: 0.9732 - val_loss: 0.3556 - val_acc: 0.8913\n",
      "Epoch 4/25\n",
      "12000/12000 [==============================] - 70s 6ms/step - loss: 0.0291 - acc: 0.9901 - val_loss: 0.4281 - val_acc: 0.8827\n",
      "Epoch 5/25\n",
      "12000/12000 [==============================] - 70s 6ms/step - loss: 0.0162 - acc: 0.9946 - val_loss: 0.5467 - val_acc: 0.8863\n",
      "Epoch 6/25\n",
      "12000/12000 [==============================] - 70s 6ms/step - loss: 0.0115 - acc: 0.9960 - val_loss: 0.5906 - val_acc: 0.8750\n",
      "Epoch 7/25\n",
      "12000/12000 [==============================] - 72s 6ms/step - loss: 0.0097 - acc: 0.9968 - val_loss: 0.6804 - val_acc: 0.8793\n",
      "Epoch 8/25\n",
      "12000/12000 [==============================] - 73s 6ms/step - loss: 0.0147 - acc: 0.9953 - val_loss: 0.6766 - val_acc: 0.8850\n",
      "Epoch 9/25\n",
      "12000/12000 [==============================] - 71s 6ms/step - loss: 0.1205 - acc: 0.9533 - val_loss: 0.5954 - val_acc: 0.7923\n",
      "Epoch 10/25\n",
      "12000/12000 [==============================] - 70s 6ms/step - loss: 0.4240 - acc: 0.8158 - val_loss: 0.5319 - val_acc: 0.7643\n",
      "Epoch 11/25\n",
      "12000/12000 [==============================] - 71s 6ms/step - loss: 0.4508 - acc: 0.7966 - val_loss: 0.5238 - val_acc: 0.7723\n",
      "Epoch 12/25\n",
      "12000/12000 [==============================] - 70s 6ms/step - loss: 0.4578 - acc: 0.7890 - val_loss: 0.5122 - val_acc: 0.7657\n",
      "Epoch 13/25\n",
      "12000/12000 [==============================] - 70s 6ms/step - loss: 0.4578 - acc: 0.7897 - val_loss: 0.5099 - val_acc: 0.7657\n",
      "Epoch 14/25\n",
      "12000/12000 [==============================] - 72s 6ms/step - loss: 0.4614 - acc: 0.7852 - val_loss: 0.4981 - val_acc: 0.7740\n",
      "Epoch 15/25\n",
      "12000/12000 [==============================] - 70s 6ms/step - loss: 0.4725 - acc: 0.7784 - val_loss: 0.5269 - val_acc: 0.7557\n",
      "Epoch 16/25\n",
      "12000/12000 [==============================] - 71s 6ms/step - loss: 0.4696 - acc: 0.7794 - val_loss: 0.5233 - val_acc: 0.7633\n",
      "Epoch 17/25\n",
      "12000/12000 [==============================] - 71s 6ms/step - loss: 0.4736 - acc: 0.7769 - val_loss: 0.5143 - val_acc: 0.7593\n",
      "Epoch 18/25\n",
      "12000/12000 [==============================] - 72s 6ms/step - loss: 0.4725 - acc: 0.7777 - val_loss: 0.5177 - val_acc: 0.7590\n",
      "Epoch 19/25\n",
      "12000/12000 [==============================] - 72s 6ms/step - loss: 0.4807 - acc: 0.7719 - val_loss: 0.5188 - val_acc: 0.7643\n",
      "Epoch 20/25\n",
      "12000/12000 [==============================] - 71s 6ms/step - loss: 0.4830 - acc: 0.7740 - val_loss: 0.5417 - val_acc: 0.7423\n",
      "Epoch 21/25\n",
      "12000/12000 [==============================] - 70s 6ms/step - loss: 0.4904 - acc: 0.7659 - val_loss: 0.5344 - val_acc: 0.7470\n",
      "Epoch 22/25\n",
      "12000/12000 [==============================] - 70s 6ms/step - loss: 0.4908 - acc: 0.7629 - val_loss: 0.5150 - val_acc: 0.7533\n",
      "Epoch 23/25\n",
      "12000/12000 [==============================] - 71s 6ms/step - loss: 0.4877 - acc: 0.7653 - val_loss: 0.5326 - val_acc: 0.7453\n",
      "Epoch 24/25\n",
      "12000/12000 [==============================] - 71s 6ms/step - loss: 0.4976 - acc: 0.7593 - val_loss: 0.5313 - val_acc: 0.7467\n",
      "Epoch 25/25\n",
      "12000/12000 [==============================] - 72s 6ms/step - loss: 0.4968 - acc: 0.7633 - val_loss: 0.5511 - val_acc: 0.7403\n"
     ]
    }
   ],
   "source": [
    "## Fit the model (capture the output for plotting the learning rate)\n",
    "mod3_fit = model3.fit(data, np.array(label), validation_split=0.2, epochs=25)"
   ]
  },
  {
   "cell_type": "code",
   "execution_count": 67,
   "metadata": {},
   "outputs": [
    {
     "name": "stderr",
     "output_type": "stream",
     "text": [
      "/opt/conda/lib/python3.6/site-packages/matplotlib/figure.py:418: UserWarning: matplotlib is currently using a non-GUI backend, so cannot show the figure\n",
      "  \"matplotlib is currently using a non-GUI backend, \"\n"
     ]
    },
    {
     "data": {
      "image/png": "[encoded data removed]",
      "text/plain": [
       "<matplotlib.figure.Figure at 0x7f41cbddc470>"
      ]
     },
     "metadata": {},
     "output_type": "display_data"
    }
   ],
   "source": [
    "## the training and validation loss\n",
    "hist = mod3_fit\n",
    "\n",
    "fig = plt.figure(figsize = (12,5)) \n",
    "ax = fig.add_subplot(111)\n",
    "x = np.array(range(1, len(hist.history['loss'])+1))\n",
    "y = np.transpose([hist.history[k] for k in ['loss', 'val_loss']])\n",
    "ax.plot(x, y)\n",
    "fig.show()"
   ]
  },
  {
   "cell_type": "markdown",
   "metadata": {},
   "source": [
    "#### GRU Model 4"
   ]
  },
  {
   "cell_type": "code",
   "execution_count": 33,
   "metadata": {},
   "outputs": [],
   "source": [
    "## tokenize and clean\n",
    "\n",
    "\n",
    "df_all = train_all_df[['text','label']]\n",
    "\n",
    "### select rows\n",
    "#df = df_all.iloc[0:500]\n",
    "#labels =\n",
    "df = df_all\n",
    "\n",
    "### Create sequence\n",
    "vocabulary_size = 10000\n",
    "\n",
    "tokenizer = Tokenizer(num_words= vocabulary_size, filters='!\"#$%&()*+,-./:;<=>?@[\\\\]^_`{|}~\\t\\n',\n",
    "                      lower=True,split=' ')\n",
    "tokenizer.fit_on_texts(df['text'])\n",
    "sequences = tokenizer.texts_to_sequences(df['text'])\n",
    "data_all = pad_sequences(sequences, maxlen=50)\n"
   ]
  },
  {
   "cell_type": "code",
   "execution_count": 34,
   "metadata": {},
   "outputs": [
    {
     "data": {
      "text/plain": [
       "15000"
      ]
     },
     "execution_count": 34,
     "metadata": {},
     "output_type": "execute_result"
    }
   ],
   "source": [
    "data = data_all[:15000]\n",
    "label = df.iloc[:15000,1]\n",
    "len(data)\n",
    "#print(data[:10])"
   ]
  },
  {
   "cell_type": "code",
   "execution_count": null,
   "metadata": {},
   "outputs": [],
   "source": []
  },
  {
   "cell_type": "code",
   "execution_count": 35,
   "metadata": {},
   "outputs": [
    {
     "name": "stdout",
     "output_type": "stream",
     "text": [
      "_________________________________________________________________\n",
      "Layer (type)                 Output Shape              Param #   \n",
      "=================================================================\n",
      "embedding_2 (Embedding)      (None, 50, 8)             80000     \n",
      "_________________________________________________________________\n",
      "gru_1 (GRU)                  (None, 4)                 156       \n",
      "_________________________________________________________________\n",
      "batch_normalization_1 (Batch (None, 4)                 16        \n",
      "_________________________________________________________________\n",
      "dense_2 (Dense)              (None, 1)                 5         \n",
      "=================================================================\n",
      "Total params: 80,177\n",
      "Trainable params: 80,169\n",
      "Non-trainable params: 8\n",
      "_________________________________________________________________\n"
     ]
    }
   ],
   "source": [
    "## Network architecture\n",
    "embeding_size = 8\n",
    "cells = 4\n",
    "\n",
    "model4 = Sequential()\n",
    "model4.add(Embedding(vocabulary_size, embeding_size, input_length=50))\n",
    "model4.add(GRU(cells,dropout=0.8, recurrent_dropout=0.5))\n",
    "\n",
    "model4.add(BatchNormalization())\n",
    "    \n",
    "model4.add(Dense(1, activation='sigmoid'))\n",
    "\n",
    "## adam learning rate\n",
    "adam = optimizers.Adam(lr=0.002, clipnorm=2.0)\n",
    "model4.compile(loss='binary_crossentropy', optimizer=adam, metrics=['accuracy'])\n",
    "\n",
    "## Show the model\n",
    "model4.summary()"
   ]
  },
  {
   "cell_type": "code",
   "execution_count": 36,
   "metadata": {},
   "outputs": [
    {
     "name": "stdout",
     "output_type": "stream",
     "text": [
      "Train on 12000 samples, validate on 3000 samples\n",
      "Epoch 1/20\n",
      "12000/12000 [==============================] - 31s 3ms/step - loss: 0.5970 - acc: 0.6609 - val_loss: 0.5180 - val_acc: 0.7690\n",
      "Epoch 2/20\n",
      "12000/12000 [==============================] - 30s 3ms/step - loss: 0.4992 - acc: 0.7428 - val_loss: 0.4088 - val_acc: 0.7993\n",
      "Epoch 3/20\n",
      "12000/12000 [==============================] - 30s 2ms/step - loss: 0.4583 - acc: 0.7675 - val_loss: 0.3842 - val_acc: 0.8230\n",
      "Epoch 4/20\n",
      "12000/12000 [==============================] - 29s 2ms/step - loss: 0.4236 - acc: 0.7847 - val_loss: 0.3521 - val_acc: 0.8353\n",
      "Epoch 5/20\n",
      "12000/12000 [==============================] - 29s 2ms/step - loss: 0.3821 - acc: 0.8068 - val_loss: 0.3014 - val_acc: 0.8730\n",
      "Epoch 6/20\n",
      "12000/12000 [==============================] - 29s 2ms/step - loss: 0.3453 - acc: 0.8272 - val_loss: 0.2824 - val_acc: 0.8810\n",
      "Epoch 7/20\n",
      "12000/12000 [==============================] - 30s 3ms/step - loss: 0.3320 - acc: 0.8390 - val_loss: 0.2804 - val_acc: 0.8783\n",
      "Epoch 8/20\n",
      "12000/12000 [==============================] - 29s 2ms/step - loss: 0.3148 - acc: 0.8463 - val_loss: 0.2709 - val_acc: 0.8850\n",
      "Epoch 9/20\n",
      "12000/12000 [==============================] - 29s 2ms/step - loss: 0.2956 - acc: 0.8531 - val_loss: 0.2794 - val_acc: 0.8850\n",
      "Epoch 10/20\n",
      "12000/12000 [==============================] - 30s 2ms/step - loss: 0.2841 - acc: 0.8608 - val_loss: 0.2794 - val_acc: 0.8860\n",
      "Epoch 11/20\n",
      "12000/12000 [==============================] - 29s 2ms/step - loss: 0.2755 - acc: 0.8593 - val_loss: 0.2806 - val_acc: 0.8873\n",
      "Epoch 12/20\n",
      "12000/12000 [==============================] - 30s 3ms/step - loss: 0.2766 - acc: 0.8628 - val_loss: 0.2973 - val_acc: 0.8810\n",
      "Epoch 13/20\n",
      "12000/12000 [==============================] - 30s 2ms/step - loss: 0.2664 - acc: 0.8674 - val_loss: 0.2997 - val_acc: 0.8820\n",
      "Epoch 14/20\n",
      "12000/12000 [==============================] - 30s 2ms/step - loss: 0.2615 - acc: 0.8698 - val_loss: 0.3406 - val_acc: 0.8733\n",
      "Epoch 15/20\n",
      "12000/12000 [==============================] - 30s 3ms/step - loss: 0.2363 - acc: 0.8883 - val_loss: 0.2847 - val_acc: 0.8877\n",
      "Epoch 16/20\n",
      "12000/12000 [==============================] - 29s 2ms/step - loss: 0.2092 - acc: 0.9080 - val_loss: 0.2996 - val_acc: 0.8880\n",
      "Epoch 17/20\n",
      "12000/12000 [==============================] - 31s 3ms/step - loss: 0.1780 - acc: 0.9265 - val_loss: 0.3058 - val_acc: 0.8880\n",
      "Epoch 18/20\n",
      "12000/12000 [==============================] - 30s 2ms/step - loss: 0.1702 - acc: 0.9299 - val_loss: 0.3239 - val_acc: 0.8907\n",
      "Epoch 19/20\n",
      "12000/12000 [==============================] - 29s 2ms/step - loss: 0.1585 - acc: 0.9362 - val_loss: 0.3567 - val_acc: 0.8857\n",
      "Epoch 20/20\n",
      "12000/12000 [==============================] - 30s 3ms/step - loss: 0.1555 - acc: 0.9361 - val_loss: 0.3525 - val_acc: 0.8870\n"
     ]
    }
   ],
   "source": [
    "## Fit the model (capture the output for plotting the learning rate)\n",
    "mod4_fit = model4.fit(data, np.array(label), validation_split=0.2, epochs=20)"
   ]
  },
  {
   "cell_type": "code",
   "execution_count": 37,
   "metadata": {},
   "outputs": [
    {
     "name": "stderr",
     "output_type": "stream",
     "text": [
      "/opt/conda/lib/python3.6/site-packages/matplotlib/figure.py:418: UserWarning: matplotlib is currently using a non-GUI backend, so cannot show the figure\n",
      "  \"matplotlib is currently using a non-GUI backend, \"\n"
     ]
    },
    {
     "data": {
      "image/png": "[encoded data removed]",
      "text/plain": [
       "<matplotlib.figure.Figure at 0x7f0a0f73d128>"
      ]
     },
     "metadata": {},
     "output_type": "display_data"
    }
   ],
   "source": [
    "## the training and validation loss\n",
    "hist = mod4_fit\n",
    "\n",
    "fig = plt.figure(figsize = (12,5)) \n",
    "ax = fig.add_subplot(111)\n",
    "x = np.array(range(1, len(hist.history['loss'])+1))\n",
    "y = np.transpose([hist.history[k] for k in ['loss', 'val_loss']])\n",
    "ax.plot(x, y)\n",
    "fig.show()"
   ]
  },
  {
   "cell_type": "markdown",
   "metadata": {},
   "source": [
    "#### Evaluate the model"
   ]
  },
  {
   "cell_type": "code",
   "execution_count": 49,
   "metadata": {},
   "outputs": [],
   "source": [
    "## Evaluate the model\n",
    "X_test = data_all[15000:]\n",
    "Y_test =  df.iloc[15000:,1]"
   ]
  },
  {
   "cell_type": "code",
   "execution_count": 50,
   "metadata": {},
   "outputs": [
    {
     "name": "stdout",
     "output_type": "stream",
     "text": [
      "Score: 0.44\n",
      "Validation Accuracy: 0.88\n"
     ]
    }
   ],
   "source": [
    "\n",
    "score,acc  =  model4.evaluate(X_test, Y_test, verbose = 2)\n",
    "print(\"Score: %.2f\" % (score))\n",
    "print(\"Validation Accuracy: %.2f\" % (acc))"
   ]
  },
  {
   "cell_type": "code",
   "execution_count": 40,
   "metadata": {},
   "outputs": [],
   "source": [
    "## Prediction of the labels\n",
    "\n",
    "prediction_sigmoid = model4.predict(X_test, verbose = 2)"
   ]
  },
  {
   "cell_type": "code",
   "execution_count": 41,
   "metadata": {},
   "outputs": [
    {
     "name": "stdout",
     "output_type": "stream",
     "text": [
      "(5099, 1)\n",
      "(5099,)\n"
     ]
    }
   ],
   "source": [
    "## Convert prediction (floats) to integer and compile predictions\n",
    "\n",
    "print(prediction_sigmoid.shape)\n",
    "\n",
    "predict_sigmoid_round = prediction_sigmoid.round()\n",
    "\n",
    "#print(predict_sigmoid_round)\n",
    "\n",
    "print(np.reshape(predict_sigmoid_round,len(predict_sigmoid_round)).shape)\n",
    "\n",
    "predicted_label = list(np.reshape(predict_sigmoid_round,len(predict_sigmoid_round)))"
   ]
  },
  {
   "cell_type": "code",
   "execution_count": 42,
   "metadata": {},
   "outputs": [
    {
     "name": "stdout",
     "output_type": "stream",
     "text": [
      "Recall: 0.8264729620661824, Precision: 0.9317561419472248\n",
      "F beta-score: 0.9086069210292813\n"
     ]
    }
   ],
   "source": [
    "## Evaluation matrics\n",
    "\n",
    "TP,TN,FP,FN = get_matrics_binary(Y_test,predicted_label)\n",
    "\n",
    "get_prec_recall_f1(TP,TN,FP,FN)"
   ]
  },
  {
   "cell_type": "markdown",
   "metadata": {},
   "source": [
    "#### GRU model 5"
   ]
  },
  {
   "cell_type": "code",
   "execution_count": 67,
   "metadata": {},
   "outputs": [
    {
     "name": "stdout",
     "output_type": "stream",
     "text": [
      "_________________________________________________________________\n",
      "Layer (type)                 Output Shape              Param #   \n",
      "=================================================================\n",
      "embedding_12 (Embedding)     (None, 50, 20)            200000    \n",
      "_________________________________________________________________\n",
      "gru_11 (GRU)                 (None, 6)                 486       \n",
      "_________________________________________________________________\n",
      "batch_normalization_11 (Batc (None, 6)                 24        \n",
      "_________________________________________________________________\n",
      "dense_12 (Dense)             (None, 1)                 7         \n",
      "=================================================================\n",
      "Total params: 200,517\n",
      "Trainable params: 200,505\n",
      "Non-trainable params: 12\n",
      "_________________________________________________________________\n"
     ]
    }
   ],
   "source": [
    "## Network architecture\n",
    "embeding_size = 20\n",
    "cells = 6\n",
    "\n",
    "model5 = Sequential()\n",
    "model5.add(Embedding(vocabulary_size, embeding_size, input_length=50))\n",
    "model5.add(GRU(cells,dropout=0.6, recurrent_dropout=0.5))\n",
    "\n",
    "model5.add(BatchNormalization())\n",
    "    \n",
    "model5.add(Dense(1, activation='sigmoid'))\n",
    "\n",
    "## adam learning rate\n",
    "adam = optimizers.Adam(lr=0.02, clipnorm=2.0)\n",
    "model5.compile(loss='binary_crossentropy', optimizer=adam, metrics=['accuracy'])\n",
    "\n",
    "## Show the model\n",
    "model5.summary()"
   ]
  },
  {
   "cell_type": "code",
   "execution_count": 68,
   "metadata": {},
   "outputs": [
    {
     "name": "stdout",
     "output_type": "stream",
     "text": [
      "Train on 12000 samples, validate on 3000 samples\n",
      "Epoch 1/10\n",
      "12000/12000 [==============================] - 30s 3ms/step - loss: 0.4275 - acc: 0.8008 - val_loss: 0.3120 - val_acc: 0.8563\n",
      "Epoch 2/10\n",
      "12000/12000 [==============================] - 29s 2ms/step - loss: 0.2940 - acc: 0.8779 - val_loss: 0.3487 - val_acc: 0.8460\n",
      "Epoch 3/10\n",
      "12000/12000 [==============================] - 30s 2ms/step - loss: 0.2490 - acc: 0.9036 - val_loss: 0.2827 - val_acc: 0.8773\n",
      "Epoch 4/10\n",
      "12000/12000 [==============================] - 30s 2ms/step - loss: 0.2290 - acc: 0.9062 - val_loss: 0.2920 - val_acc: 0.8790\n",
      "Epoch 5/10\n",
      "12000/12000 [==============================] - 30s 3ms/step - loss: 0.2106 - acc: 0.9157 - val_loss: 0.2848 - val_acc: 0.8867\n",
      "Epoch 6/10\n",
      "12000/12000 [==============================] - 30s 2ms/step - loss: 0.1995 - acc: 0.9205 - val_loss: 0.3209 - val_acc: 0.8843\n",
      "Epoch 7/10\n",
      "12000/12000 [==============================] - 31s 3ms/step - loss: 0.1914 - acc: 0.9244 - val_loss: 0.3353 - val_acc: 0.8737\n",
      "Epoch 8/10\n",
      "12000/12000 [==============================] - 30s 2ms/step - loss: 0.1953 - acc: 0.9199 - val_loss: 0.3567 - val_acc: 0.8617\n",
      "Epoch 9/10\n",
      "12000/12000 [==============================] - 30s 2ms/step - loss: 0.1882 - acc: 0.9257 - val_loss: 0.3363 - val_acc: 0.8737\n",
      "Epoch 10/10\n",
      "12000/12000 [==============================] - 30s 3ms/step - loss: 0.1893 - acc: 0.9255 - val_loss: 0.3473 - val_acc: 0.8690\n"
     ]
    }
   ],
   "source": [
    "## Fit the model (capture the output for plotting the learning rate)\n",
    "mod5_fit = model5.fit(data, np.array(label), validation_split=0.2, epochs=10)"
   ]
  },
  {
   "cell_type": "code",
   "execution_count": 69,
   "metadata": {},
   "outputs": [
    {
     "name": "stderr",
     "output_type": "stream",
     "text": [
      "/opt/conda/lib/python3.6/site-packages/matplotlib/figure.py:418: UserWarning: matplotlib is currently using a non-GUI backend, so cannot show the figure\n",
      "  \"matplotlib is currently using a non-GUI backend, \"\n"
     ]
    },
    {
     "data": {
      "image/png": "[encoded data removed]",
      "text/plain": [
       "<matplotlib.figure.Figure at 0x7f09e2f7c470>"
      ]
     },
     "metadata": {},
     "output_type": "display_data"
    }
   ],
   "source": [
    "## the training and validation loss\n",
    "hist = mod4_fit\n",
    "\n",
    "fig = plt.figure(figsize = (12,5)) \n",
    "ax = fig.add_subplot(111)\n",
    "x = np.array(range(1, len(hist.history['loss'])+1))\n",
    "y = np.transpose([hist.history[k] for k in ['loss', 'val_loss']])\n",
    "ax.plot(x, y)\n",
    "fig.show()"
   ]
  },
  {
   "cell_type": "code",
   "execution_count": null,
   "metadata": {},
   "outputs": [],
   "source": []
  }
 ],
 "metadata": {
  "kernelspec": {
   "display_name": "Python 3",
   "language": "python",
   "name": "python3"
  },
  "language_info": {
   "codemirror_mode": {
    "name": "ipython",
    "version": 3
   },
   "file_extension": ".py",
   "mimetype": "text/x-python",
   "name": "python",
   "nbconvert_exporter": "python",
   "pygments_lexer": "ipython3",
   "version": "3.6.3"
  }
 },
 "nbformat": 4,
 "nbformat_minor": 2
}
